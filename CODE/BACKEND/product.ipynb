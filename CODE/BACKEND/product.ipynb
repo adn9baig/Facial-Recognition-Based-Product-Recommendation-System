{
 "cells": [
  {
   "cell_type": "markdown",
   "metadata": {},
   "source": [
    "# **Facial recognition based Product recommendation system using past purchases**"
   ]
  },
  {
   "cell_type": "markdown",
   "metadata": {},
   "source": [
    "# **Import library's**"
   ]
  },
  {
   "cell_type": "code",
   "execution_count": 1,
   "metadata": {},
   "outputs": [],
   "source": [
    "import pandas as pd\n",
    "from matplotlib import pyplot as plt\n",
    "import seaborn as sns"
   ]
  },
  {
   "cell_type": "markdown",
   "metadata": {},
   "source": [
    "# **Read the data set**"
   ]
  },
  {
   "cell_type": "code",
   "execution_count": 564,
   "metadata": {},
   "outputs": [],
   "source": [
    "df = pd.read_csv('amazon.csv',encoding='latin')"
   ]
  },
  {
   "cell_type": "code",
   "execution_count": 565,
   "metadata": {},
   "outputs": [
    {
     "data": {
      "text/html": [
       "<div>\n",
       "<style scoped>\n",
       "    .dataframe tbody tr th:only-of-type {\n",
       "        vertical-align: middle;\n",
       "    }\n",
       "\n",
       "    .dataframe tbody tr th {\n",
       "        vertical-align: top;\n",
       "    }\n",
       "\n",
       "    .dataframe thead th {\n",
       "        text-align: right;\n",
       "    }\n",
       "</style>\n",
       "<table border=\"1\" class=\"dataframe\">\n",
       "  <thead>\n",
       "    <tr style=\"text-align: right;\">\n",
       "      <th></th>\n",
       "      <th>sub_category</th>\n",
       "      <th>image</th>\n",
       "      <th>actual_price</th>\n",
       "      <th>name</th>\n",
       "    </tr>\n",
       "  </thead>\n",
       "  <tbody>\n",
       "    <tr>\n",
       "      <th>0</th>\n",
       "      <td>Air Conditioners</td>\n",
       "      <td>https://m.media-amazon.com/images/I/31UISB90sY...</td>\n",
       "      <td>â?58,990</td>\n",
       "      <td>Lloyd 1.5 Ton 3 Star Inverter Split Ac (5 In 1...</td>\n",
       "    </tr>\n",
       "    <tr>\n",
       "      <th>1</th>\n",
       "      <td>Air Conditioners</td>\n",
       "      <td>https://m.media-amazon.com/images/I/51JFb7FctD...</td>\n",
       "      <td>â?75,990</td>\n",
       "      <td>LG 1.5 Ton 5 Star AI DUAL Inverter Split AC (C...</td>\n",
       "    </tr>\n",
       "    <tr>\n",
       "      <th>2</th>\n",
       "      <td>Air Conditioners</td>\n",
       "      <td>https://m.media-amazon.com/images/I/51JFb7FctD...</td>\n",
       "      <td>â?61,990</td>\n",
       "      <td>LG 1 Ton 4 Star Ai Dual Inverter Split Ac (Cop...</td>\n",
       "    </tr>\n",
       "    <tr>\n",
       "      <th>3</th>\n",
       "      <td>Air Conditioners</td>\n",
       "      <td>https://m.media-amazon.com/images/I/51JFb7FctD...</td>\n",
       "      <td>â?68,990</td>\n",
       "      <td>LG 1.5 Ton 3 Star AI DUAL Inverter Split AC (C...</td>\n",
       "    </tr>\n",
       "    <tr>\n",
       "      <th>4</th>\n",
       "      <td>Air Conditioners</td>\n",
       "      <td>https://m.media-amazon.com/images/I/41lrtqXPiW...</td>\n",
       "      <td>â?67,790</td>\n",
       "      <td>Carrier 1.5 Ton 3 Star Inverter Split AC (Copp...</td>\n",
       "    </tr>\n",
       "  </tbody>\n",
       "</table>\n",
       "</div>"
      ],
      "text/plain": [
       "       sub_category                                              image  \\\n",
       "0  Air Conditioners  https://m.media-amazon.com/images/I/31UISB90sY...   \n",
       "1  Air Conditioners  https://m.media-amazon.com/images/I/51JFb7FctD...   \n",
       "2  Air Conditioners  https://m.media-amazon.com/images/I/51JFb7FctD...   \n",
       "3  Air Conditioners  https://m.media-amazon.com/images/I/51JFb7FctD...   \n",
       "4  Air Conditioners  https://m.media-amazon.com/images/I/41lrtqXPiW...   \n",
       "\n",
       "  actual_price                                               name  \n",
       "0    â?58,990  Lloyd 1.5 Ton 3 Star Inverter Split Ac (5 In 1...  \n",
       "1    â?75,990  LG 1.5 Ton 5 Star AI DUAL Inverter Split AC (C...  \n",
       "2    â?61,990  LG 1 Ton 4 Star Ai Dual Inverter Split Ac (Cop...  \n",
       "3    â?68,990  LG 1.5 Ton 3 Star AI DUAL Inverter Split AC (C...  \n",
       "4    â?67,790  Carrier 1.5 Ton 3 Star Inverter Split AC (Copp...  "
      ]
     },
     "execution_count": 565,
     "metadata": {},
     "output_type": "execute_result"
    }
   ],
   "source": [
    "df.head()"
   ]
  },
  {
   "cell_type": "code",
   "execution_count": 566,
   "metadata": {},
   "outputs": [
    {
     "data": {
      "text/html": [
       "<div>\n",
       "<style scoped>\n",
       "    .dataframe tbody tr th:only-of-type {\n",
       "        vertical-align: middle;\n",
       "    }\n",
       "\n",
       "    .dataframe tbody tr th {\n",
       "        vertical-align: top;\n",
       "    }\n",
       "\n",
       "    .dataframe thead th {\n",
       "        text-align: right;\n",
       "    }\n",
       "</style>\n",
       "<table border=\"1\" class=\"dataframe\">\n",
       "  <thead>\n",
       "    <tr style=\"text-align: right;\">\n",
       "      <th></th>\n",
       "      <th>sub_category</th>\n",
       "      <th>image</th>\n",
       "      <th>actual_price</th>\n",
       "      <th>name</th>\n",
       "    </tr>\n",
       "  </thead>\n",
       "  <tbody>\n",
       "    <tr>\n",
       "      <th>2634</th>\n",
       "      <td>T-shirts &amp; Polos</td>\n",
       "      <td>https://m.media-amazon.com/images/W/IMAGERENDE...</td>\n",
       "      <td>â?1,399</td>\n",
       "      <td>HeraDawn Cottonblend Mens Printed Oversized T-...</td>\n",
       "    </tr>\n",
       "    <tr>\n",
       "      <th>2635</th>\n",
       "      <td>T-shirts &amp; Polos</td>\n",
       "      <td>https://m.media-amazon.com/images/W/IMAGERENDE...</td>\n",
       "      <td>NaN</td>\n",
       "      <td>HF RIGHT Military Army Commando Full Sleeve T-...</td>\n",
       "    </tr>\n",
       "    <tr>\n",
       "      <th>2636</th>\n",
       "      <td>T-shirts &amp; Polos</td>\n",
       "      <td>https://m.media-amazon.com/images/W/IMAGERENDE...</td>\n",
       "      <td>â?1,699</td>\n",
       "      <td>Levi's Men's Slim Fit Polo</td>\n",
       "    </tr>\n",
       "    <tr>\n",
       "      <th>2637</th>\n",
       "      <td>T-shirts &amp; Polos</td>\n",
       "      <td>https://m.media-amazon.com/images/W/IMAGERENDE...</td>\n",
       "      <td>â?799</td>\n",
       "      <td>Classic Polo Mens Solid Half Sleeve 100% Cotto...</td>\n",
       "    </tr>\n",
       "    <tr>\n",
       "      <th>2638</th>\n",
       "      <td>T-shirts &amp; Polos</td>\n",
       "      <td>https://m.media-amazon.com/images/W/IMAGERENDE...</td>\n",
       "      <td>â?1,999</td>\n",
       "      <td>MPL Sports Team India Retro Limited Over Jerse...</td>\n",
       "    </tr>\n",
       "  </tbody>\n",
       "</table>\n",
       "</div>"
      ],
      "text/plain": [
       "          sub_category                                              image  \\\n",
       "2634  T-shirts & Polos  https://m.media-amazon.com/images/W/IMAGERENDE...   \n",
       "2635  T-shirts & Polos  https://m.media-amazon.com/images/W/IMAGERENDE...   \n",
       "2636  T-shirts & Polos  https://m.media-amazon.com/images/W/IMAGERENDE...   \n",
       "2637  T-shirts & Polos  https://m.media-amazon.com/images/W/IMAGERENDE...   \n",
       "2638  T-shirts & Polos  https://m.media-amazon.com/images/W/IMAGERENDE...   \n",
       "\n",
       "     actual_price                                               name  \n",
       "2634     â?1,399  HeraDawn Cottonblend Mens Printed Oversized T-...  \n",
       "2635          NaN  HF RIGHT Military Army Commando Full Sleeve T-...  \n",
       "2636     â?1,699                         Levi's Men's Slim Fit Polo  \n",
       "2637       â?799  Classic Polo Mens Solid Half Sleeve 100% Cotto...  \n",
       "2638     â?1,999  MPL Sports Team India Retro Limited Over Jerse...  "
      ]
     },
     "execution_count": 566,
     "metadata": {},
     "output_type": "execute_result"
    }
   ],
   "source": [
    "df.tail()"
   ]
  },
  {
   "cell_type": "markdown",
   "metadata": {},
   "source": [
    "# **EDA**"
   ]
  },
  {
   "cell_type": "code",
   "execution_count": 567,
   "metadata": {},
   "outputs": [
    {
     "data": {
      "text/plain": [
       "(2639, 4)"
      ]
     },
     "execution_count": 567,
     "metadata": {},
     "output_type": "execute_result"
    }
   ],
   "source": [
    "df.shape"
   ]
  },
  {
   "cell_type": "code",
   "execution_count": 568,
   "metadata": {},
   "outputs": [
    {
     "data": {
      "text/plain": [
       "sub_category    object\n",
       "image           object\n",
       "actual_price    object\n",
       "name            object\n",
       "dtype: object"
      ]
     },
     "execution_count": 568,
     "metadata": {},
     "output_type": "execute_result"
    }
   ],
   "source": [
    "df.dtypes"
   ]
  },
  {
   "cell_type": "code",
   "execution_count": 569,
   "metadata": {},
   "outputs": [
    {
     "data": {
      "text/plain": [
       "sub_category     0\n",
       "image            0\n",
       "actual_price    33\n",
       "name             0\n",
       "dtype: int64"
      ]
     },
     "execution_count": 569,
     "metadata": {},
     "output_type": "execute_result"
    }
   ],
   "source": [
    "# check a nill values\n",
    "df.isnull().sum()"
   ]
  },
  {
   "cell_type": "code",
   "execution_count": 570,
   "metadata": {},
   "outputs": [
    {
     "data": {
      "text/plain": [
       "0       False\n",
       "1       False\n",
       "2       False\n",
       "3       False\n",
       "4       False\n",
       "        ...  \n",
       "2634    False\n",
       "2635    False\n",
       "2636    False\n",
       "2637    False\n",
       "2638    False\n",
       "Length: 2639, dtype: bool"
      ]
     },
     "execution_count": 570,
     "metadata": {},
     "output_type": "execute_result"
    }
   ],
   "source": [
    "# chech the duplicate  values\n",
    "df.duplicated().T"
   ]
  },
  {
   "cell_type": "code",
   "execution_count": 571,
   "metadata": {},
   "outputs": [
    {
     "data": {
      "text/html": [
       "<div>\n",
       "<style scoped>\n",
       "    .dataframe tbody tr th:only-of-type {\n",
       "        vertical-align: middle;\n",
       "    }\n",
       "\n",
       "    .dataframe tbody tr th {\n",
       "        vertical-align: top;\n",
       "    }\n",
       "\n",
       "    .dataframe thead th {\n",
       "        text-align: right;\n",
       "    }\n",
       "</style>\n",
       "<table border=\"1\" class=\"dataframe\">\n",
       "  <thead>\n",
       "    <tr style=\"text-align: right;\">\n",
       "      <th></th>\n",
       "      <th>count</th>\n",
       "      <th>unique</th>\n",
       "      <th>top</th>\n",
       "      <th>freq</th>\n",
       "    </tr>\n",
       "  </thead>\n",
       "  <tbody>\n",
       "    <tr>\n",
       "      <th>sub_category</th>\n",
       "      <td>2639</td>\n",
       "      <td>12</td>\n",
       "      <td>T-shirts &amp; Polos</td>\n",
       "      <td>499</td>\n",
       "    </tr>\n",
       "    <tr>\n",
       "      <th>image</th>\n",
       "      <td>2639</td>\n",
       "      <td>2538</td>\n",
       "      <td>https://m.media-amazon.com/images/I/712Brp0hwf...</td>\n",
       "      <td>8</td>\n",
       "    </tr>\n",
       "    <tr>\n",
       "      <th>actual_price</th>\n",
       "      <td>2606</td>\n",
       "      <td>693</td>\n",
       "      <td>â?999</td>\n",
       "      <td>210</td>\n",
       "    </tr>\n",
       "    <tr>\n",
       "      <th>name</th>\n",
       "      <td>2639</td>\n",
       "      <td>2468</td>\n",
       "      <td>crocs unisex-adult Bayaband Clog LEMON/WHITE C...</td>\n",
       "      <td>13</td>\n",
       "    </tr>\n",
       "  </tbody>\n",
       "</table>\n",
       "</div>"
      ],
      "text/plain": [
       "             count unique                                                top  \\\n",
       "sub_category  2639     12                                   T-shirts & Polos   \n",
       "image         2639   2538  https://m.media-amazon.com/images/I/712Brp0hwf...   \n",
       "actual_price  2606    693                                             â?999   \n",
       "name          2639   2468  crocs unisex-adult Bayaband Clog LEMON/WHITE C...   \n",
       "\n",
       "             freq  \n",
       "sub_category  499  \n",
       "image           8  \n",
       "actual_price  210  \n",
       "name           13  "
      ]
     },
     "execution_count": 571,
     "metadata": {},
     "output_type": "execute_result"
    }
   ],
   "source": [
    "# Describe thet data\n",
    "df.describe().T"
   ]
  },
  {
   "cell_type": "code",
   "execution_count": 572,
   "metadata": {},
   "outputs": [
    {
     "name": "stdout",
     "output_type": "stream",
     "text": [
      "<class 'pandas.core.frame.DataFrame'>\n",
      "RangeIndex: 2639 entries, 0 to 2638\n",
      "Data columns (total 4 columns):\n",
      " #   Column        Non-Null Count  Dtype \n",
      "---  ------        --------------  ----- \n",
      " 0   sub_category  2639 non-null   object\n",
      " 1   image         2639 non-null   object\n",
      " 2   actual_price  2606 non-null   object\n",
      " 3   name          2639 non-null   object\n",
      "dtypes: object(4)\n",
      "memory usage: 82.6+ KB\n"
     ]
    }
   ],
   "source": [
    "# information about data set\n",
    "df.info()"
   ]
  },
  {
   "cell_type": "code",
   "execution_count": 573,
   "metadata": {},
   "outputs": [
    {
     "data": {
      "text/plain": [
       "7"
      ]
     },
     "execution_count": 573,
     "metadata": {},
     "output_type": "execute_result"
    }
   ],
   "source": [
    "df.duplicated().sum()"
   ]
  },
  {
   "cell_type": "code",
   "execution_count": 574,
   "metadata": {},
   "outputs": [
    {
     "data": {
      "text/plain": [
       "sub_category    2639\n",
       "image           2639\n",
       "actual_price    2606\n",
       "name            2639\n",
       "dtype: int64"
      ]
     },
     "execution_count": 574,
     "metadata": {},
     "output_type": "execute_result"
    }
   ],
   "source": [
    "df.notnull().sum()"
   ]
  },
  {
   "cell_type": "code",
   "execution_count": 575,
   "metadata": {},
   "outputs": [
    {
     "name": "stdout",
     "output_type": "stream",
     "text": [
      "sub_category    -------->:<class 'str'>\n",
      "image    -------->:<class 'str'>\n",
      "actual_price    -------->:<class 'str'>\n",
      "name    -------->:<class 'str'>\n"
     ]
    }
   ],
   "source": [
    "for i in df.columns:\n",
    "    print(i +'    -------->:'+str(type(i)))"
   ]
  },
  {
   "cell_type": "code",
   "execution_count": 576,
   "metadata": {},
   "outputs": [
    {
     "data": {
      "text/plain": [
       "<Axes: xlabel='actual_price', ylabel='Count'>"
      ]
     },
     "execution_count": 576,
     "metadata": {},
     "output_type": "execute_result"
    },
    {
     "name": "stderr",
     "output_type": "stream",
     "text": [
      "C:\\Users\\0630\\AppData\\Roaming\\Python\\Python310\\site-packages\\IPython\\core\\events.py:89: UserWarning:\n",
      "\n",
      "Glyph 137 (\\x89) missing from current font.\n",
      "\n",
      "C:\\Users\\0630\\AppData\\Roaming\\Python\\Python310\\site-packages\\IPython\\core\\pylabtools.py:152: UserWarning:\n",
      "\n",
      "Glyph 137 (\\x89) missing from current font.\n",
      "\n"
     ]
    },
    {
     "data": {
      "image/png": "[encoded data removed]",
      "text/plain": [
       "<Figure size 640x480 with 1 Axes>"
      ]
     },
     "metadata": {},
     "output_type": "display_data"
    }
   ],
   "source": [
    "# histplot of actual_price column\n",
    "sns.histplot(df['actual_price'])"
   ]
  },
  {
   "cell_type": "code",
   "execution_count": 577,
   "metadata": {},
   "outputs": [
    {
     "name": "stderr",
     "output_type": "stream",
     "text": [
      "<__array_function__ internals>:180: RuntimeWarning:\n",
      "\n",
      "Converting input from bool to <class 'numpy.uint8'> for compatibility.\n",
      "\n",
      "<__array_function__ internals>:180: RuntimeWarning:\n",
      "\n",
      "Converting input from bool to <class 'numpy.uint8'> for compatibility.\n",
      "\n"
     ]
    },
    {
     "name": "stdout",
     "output_type": "stream",
     "text": [
      "___________________________________________________\n",
      "The null values of dataset sub_category     0\n",
      "image            0\n",
      "actual_price    33\n",
      "name             0\n",
      "dtype: int64\n",
      "___________________________________________________\n"
     ]
    },
    {
     "data": {
      "image/png": "[encoded data removed]",
      "text/plain": [
       "<Figure size 640x480 with 1 Axes>"
      ]
     },
     "metadata": {},
     "output_type": "display_data"
    }
   ],
   "source": [
    "sns.histplot(df.isnull())\n",
    "print('___________________________________________________')\n",
    "print(\"The null values of dataset\"+' '+str(df.isnull().sum()))\n",
    "print('___________________________________________________')"
   ]
  },
  {
   "cell_type": "code",
   "execution_count": 578,
   "metadata": {},
   "outputs": [
    {
     "name": "stderr",
     "output_type": "stream",
     "text": [
      "<__array_function__ internals>:180: RuntimeWarning:\n",
      "\n",
      "Converting input from bool to <class 'numpy.uint8'> for compatibility.\n",
      "\n"
     ]
    },
    {
     "name": "stdout",
     "output_type": "stream",
     "text": [
      "___________________________________________________\n",
      "The duplicated values of dataset 7\n",
      "___________________________________________________\n"
     ]
    },
    {
     "data": {
      "image/png": "[encoded data removed]",
      "text/plain": [
       "<Figure size 640x480 with 1 Axes>"
      ]
     },
     "metadata": {},
     "output_type": "display_data"
    }
   ],
   "source": [
    "sns.histplot(df.duplicated())\n",
    "print('___________________________________________________')\n",
    "print(\"The duplicated values of dataset\"+' '+str(df.duplicated().sum()))\n",
    "print('___________________________________________________')"
   ]
  },
  {
   "cell_type": "code",
   "execution_count": 579,
   "metadata": {},
   "outputs": [
    {
     "data": {
      "text/plain": [
       "Index(['sub_category', 'image', 'actual_price', 'name'], dtype='object')"
      ]
     },
     "execution_count": 579,
     "metadata": {},
     "output_type": "execute_result"
    }
   ],
   "source": [
    "df.columns"
   ]
  },
  {
   "cell_type": "code",
   "execution_count": 580,
   "metadata": {},
   "outputs": [
    {
     "name": "stdout",
     "output_type": "stream",
     "text": [
      "count    2639.000000\n",
      "mean       71.134521\n",
      "std        15.073829\n",
      "min        62.000000\n",
      "25%        62.000000\n",
      "50%        62.000000\n",
      "75%        96.000000\n",
      "max        96.000000\n",
      "Name: image_url_length, dtype: float64\n"
     ]
    },
    {
     "data": {
      "image/png": "[encoded data removed]",
      "text/plain": [
       "<Figure size 800x600 with 1 Axes>"
      ]
     },
     "metadata": {},
     "output_type": "display_data"
    }
   ],
   "source": [
    "# Convert the values in \"image_url\" column to strings and calculate lengths\n",
    "df[\"image_url_length\"] = df[\"image\"].astype(str).apply(len)\n",
    "\n",
    "# Check summary statistics of image_url lengths\n",
    "print(df[\"image_url_length\"].describe())\n",
    "\n",
    "# Plot the distribution of image_url lengths\n",
    "plt.figure(figsize=(8, 6))\n",
    "sns.histplot(df[\"image_url_length\"], bins=50)\n",
    "plt.title(\"Distribution of Image URL Lengths\")\n",
    "plt.xlabel(\"Image URL Length\")\n",
    "plt.ylabel(\"Count\")\n",
    "plt.show()"
   ]
  },
  {
   "cell_type": "code",
   "execution_count": 581,
   "metadata": {},
   "outputs": [],
   "source": [
    "import plotly.express as px\n",
    "from plotly import graph_objects as go"
   ]
  },
  {
   "cell_type": "code",
   "execution_count": 582,
   "metadata": {},
   "outputs": [
    {
     "data": {
      "application/vnd.plotly.v1+json": {
       "config": {
        "plotlyServerURL": "https://plot.ly"
       },
       "data": [
        {
         "alignmentgroup": "True",
         "bingroup": "x",
         "hovertemplate": "actual_price=%{x}<br>count=%{y}<extra></extra>",
         "legendgroup": "",
         "marker": {
          "color": "#636efa",
          "pattern": {
           "shape": ""
          }
         },
         "name": "",
         "offsetgroup": "",
         "orientation": "v",
         "showlegend": false,
         "type": "histogram",
         "x": [
          "â?58,990",
          "â?75,990",
          "â?61,990",
          "â?68,990",
          "â?67,790",
          "â?70,990",
          "â?49,990",
          "â?67,990",
          "â?58,190",
          "â?73,990",
          "â?48,200",
          "â?67,200",
          "â?63,400",
          "â?78,490",
          "â?62,000",
          "â?60,990",
          "â?57,990",
          "â?54,900",
          "â?42,900",
          "â?58,400",
          "â?62,250",
          "â?62,990",
          "â?71,990",
          "â?54,600",
          "â?47,990",
          "â?72,990",
          "â?49,990",
          "â?50,990",
          "â?75,990",
          "â?46,900",
          "â?79,990",
          "â?62,990",
          "â?57,700",
          "â?70,600",
          "â?54,990",
          "â?57,990",
          "â?55,500",
          "â?39,000",
          "â?33,000",
          "â?55,400",
          "â?53,990",
          "â?55,600",
          "â?45,090",
          "â?47,790",
          "â?41,500",
          "â?91,690",
          "â?51,500",
          "â?52,900",
          "â?56,990",
          "â?56,990",
          "â?57,990",
          "â?80,890",
          "â?54,990",
          "â?43,990",
          "â?48,100",
          "â?64,200",
          "â?61,990",
          "â?64,000",
          "â?71,900",
          "â?85,990",
          "â?73,990",
          "â?59,400",
          "â?39,500",
          "â?44,500",
          "â?47,100",
          "â?49,089",
          "â?42,190",
          "â?75,990",
          "â?69,990",
          "â?77,990",
          "â?46,990",
          "â?93,990",
          "â?50,990",
          "â?42,990",
          "â?85,990",
          "â?56,990",
          null,
          "â?49,000",
          "â?49,990",
          "â?50,600",
          "â?73,000",
          "â?83,990",
          "â?78,990",
          "â?56,179",
          "â?59,700",
          "â?30,000",
          "â?29,490",
          "â?40,900",
          "â?77,150",
          "â?87,900",
          "â?71,750",
          "â?59,990",
          "â?54,590",
          "â?35,990",
          "â?48,200",
          "â?52,990",
          "â?73,800",
          "â?61,400",
          "â?66,900",
          "â?68,990",
          null,
          "â?55,990",
          "â?58,990",
          "â?78,200",
          "â?30,520",
          "â?72,900",
          "â?2,999",
          "â?42,900",
          "â?76,900",
          "â?49,990",
          "â?43,090",
          "â?37,000",
          "â?33,990",
          "â?84,990",
          null,
          "â?70,290",
          "â?72,900",
          "â?44,990",
          "â?75,990",
          "â?71,490",
          "â?57,490",
          "â?75,990",
          "â?89,990",
          "â?1,500",
          "â?69,400",
          "â?1,249",
          "â?49,300",
          "â?64,000",
          "â?76,900",
          "â?44,490",
          "â?65,990",
          "â?46,000",
          "â?64,990",
          "â?68,990",
          "â?70,530",
          "â?47,990",
          "â?43,900",
          "â?7,250",
          "â?64,000",
          "â?59,990",
          "â?45,900",
          "â?61,600",
          "â?43,800",
          "â?71,990",
          null,
          "â?64,400",
          null,
          "â?66,990",
          "â?69,990",
          "â?79,890",
          "â?999",
          "â?55,990",
          "â?54,740",
          "â?68,400",
          "â?38,990",
          "â?83,000",
          "â?75,400",
          "â?60,900",
          "â?52,500",
          "â?79,890",
          "â?75,990",
          "â?35,990",
          "â?66,900",
          "â?64,000",
          "â?45,900",
          "â?49,990",
          "â?11,999",
          "â?49,600",
          "â?63,990",
          "â?38,090",
          null,
          "â?83,900",
          "â?53,900",
          "â?59,990",
          "â?40,900",
          "â?86,800",
          "â?39,090",
          "â?45,990",
          "â?92,200",
          "â?45,000",
          null,
          null,
          "â?57,900",
          "â?71,200",
          "â?55,990",
          "â?62,000",
          "â?62,300",
          "â?1,449",
          "â?85,990",
          "â?87,900",
          "â?49,470",
          "â?55,790",
          "â?67,990",
          "â?67,990",
          "â?81,990",
          "â?65,000",
          null,
          "â?56,990",
          "â?58,990",
          "â?67,200",
          null,
          "â?86,800",
          "â?55,598",
          "â?55,990",
          "â?55,990",
          "â?88,990",
          null,
          "â?31,750",
          "â?31,490",
          "â?59,990",
          "â?57,900",
          "â?72,990",
          "â?8,980",
          "â?4,969",
          null,
          "â?55,990",
          "â?84,990",
          "â?89,470",
          null,
          "â?59,990",
          "â?65,900",
          null,
          "â?58,400",
          "â?51,990",
          "â?44,210",
          "â?1,499",
          "â?44,210",
          "â?17,990",
          null,
          "â?92,990",
          "â?78,000",
          "â?59,990",
          "â?48,200",
          "â?76,990",
          "â?72,490",
          "â?86,800",
          "â?49,000",
          "â?5,065",
          null,
          null,
          null,
          "â?55,990",
          "â?55,990",
          "â?1,349",
          "â?55,490",
          "â?67,990",
          "â?74,990",
          "â?88,990",
          "â?88,990",
          "â?18,999",
          "â?19,999",
          "â?2,299",
          "â?24,999",
          "â?19,999",
          "â?18,999",
          "â?3,995",
          "â?1,900",
          "â?19,999",
          "â?24,999",
          "â?13,499",
          "â?8,999",
          "â?21,999",
          "â?4,490",
          "â?4,490",
          "â?999",
          "â?3,990",
          "â?999",
          "â?7,990",
          "â?2,299",
          "â?2,990",
          "â?8,999",
          "â?11,999",
          "â?44,999",
          "â?28,999",
          "â?2,999",
          "â?28,999",
          "â?3,990",
          "â?3,990",
          "â?4,999",
          "â?18,999",
          "â?2,199",
          "â?650",
          "â?1,000",
          "â?2,990",
          "â?8,999",
          "â?39,999",
          "â?2,199",
          "â?1,699",
          "â?4,490",
          "â?2,599",
          "â?6,999",
          "â?599",
          "â?11,999",
          "â?399",
          "â?14,499",
          "â?999",
          "â?2,299",
          "â?3,990",
          "â?11,999",
          "â?375",
          "â?4,999.01",
          "â?7,990",
          "â?165",
          "â?4,999",
          "â?999",
          "â?1,499",
          "â?5,999",
          "â?2,699",
          "â?11,999",
          "â?21,999",
          "â?999",
          "â?7,990",
          "â?220",
          "â?237",
          "â?499",
          "â?6,990",
          "â?2,299",
          "â?11,999",
          "â?1,299",
          "â?895",
          "â?4,499",
          "â?21,000",
          "â?590",
          "â?138",
          "â?649",
          "â?1,500",
          "â?2,490",
          "â?4,999",
          "â?1,100",
          null,
          "â?1,800",
          "â?11,999",
          "â?2,999",
          "â?1,999",
          "â?9,999",
          "â?17,999",
          "â?61,999",
          "â?2,499",
          "â?2,199",
          "â?50",
          "â?27,999",
          "â?399",
          "â?2,999",
          "â?3,999",
          "â?21,999",
          "â?999",
          "â?25,999",
          "â?9,999",
          "â?399",
          "â?650",
          "â?4,999",
          "â?700",
          "â?1,999",
          "â?1,699",
          "â?1,999",
          "â?7,990",
          "â?399",
          "â?33,999",
          "â?2,990",
          "â?250",
          "â?1,299",
          "â?2,499",
          "â?1,299",
          "â?1,995",
          "â?886",
          "â?1,899",
          "â?2,699",
          "â?1,599",
          "â?699",
          "â?4,499",
          "â?699",
          "â?1,799",
          "â?3,990",
          "â?999",
          "â?20,990",
          "â?1,999",
          "â?999",
          "â?89",
          "â?225",
          "â?1,490",
          "â?21,999",
          "â?1,245",
          "â?699",
          "â?1,499",
          "â?339",
          "â?299",
          "â?499",
          "â?599",
          "â?44,999",
          "â?999",
          "â?299",
          "â?799",
          "â?1,999",
          "â?22,900",
          "â?1,290",
          "â?470",
          "â?495",
          "â?465",
          "â?3,700",
          "â?2,800",
          "â?1,099",
          "â?61,999",
          "â?17,999",
          "â?3,990",
          "â?2,699",
          "â?315.01",
          "â?2,990",
          "â?3,490",
          "â?24,999",
          "â?3,499",
          "â?2,490",
          "â?2,499",
          "â?25,999",
          "â?16,999",
          "â?3,699",
          "â?345",
          "â?666.66",
          "â?27,999",
          "â?702",
          "â?999",
          "â?599",
          "â?299",
          "â?190",
          "â?999",
          "â?9,999",
          "â?2,299",
          "â?21,999",
          "â?19,999",
          "â?2,999",
          "â?1,299",
          "â?3,900",
          "â?2,500",
          "â?4,900",
          "â?4,999",
          "â?4,499",
          "â?1,350",
          "â?2,499",
          "â?799",
          "â?708",
          "â?999",
          "â?7,999",
          "â?2,599",
          "â?9,999",
          "â?1,599",
          "â?999",
          "â?7,999",
          "â?5,999",
          "â?9,999",
          "â?749",
          "â?999",
          "â?2,490",
          "â?499",
          "â?849",
          "â?999",
          "â?2,990",
          "â?3,499",
          "â?1,599",
          "â?999",
          "â?999",
          "â?180",
          "â?24,999",
          "â?49,999",
          "â?999",
          "â?2,990",
          "â?8,990",
          "â?5,499",
          "â?7,990",
          "â?19,999",
          "â?17,999",
          "â?2,499",
          "â?999",
          "â?2,599",
          "â?549",
          "â?499",
          "â?3,990",
          "â?1,799",
          "â?1,499",
          "â?3,499",
          "â?1,899",
          "â?499",
          "â?1,290",
          "â?899",
          "â?34,999",
          "â?999",
          "â?3,999",
          "â?8,999",
          "â?15,990",
          "â?1,999",
          "â?19,999",
          "â?1,000",
          "â?399",
          "â?38,999",
          "â?1,199",
          "â?7,999",
          "â?220",
          "â?4,999",
          "â?1,600",
          "â?499",
          "â?59",
          "â?699",
          "â?1,049",
          "â?999",
          "â?4,090",
          "â?1,699",
          "â?999",
          "â?499",
          "â?799",
          "â?590",
          "â?699",
          "â?335",
          "â?699",
          "â?1,395",
          "â?599",
          "â?1,499",
          "â?299",
          "â?249",
          "â?499",
          "â?1,499",
          "â?3,999",
          "â?599",
          "â?999",
          "â?799",
          "â?899",
          "â?1,299",
          "â?2,499",
          "â?599",
          "â?199",
          "â?899",
          "â?999",
          "â?1,299",
          "â?999",
          "â?600",
          "â?699",
          "â?799",
          "â?2,999",
          "â?3,430",
          "â?990",
          "â?1,600",
          "â?1,680",
          "â?1,299",
          "â?182",
          "â?360",
          "â?3,199",
          "â?649",
          "â?3,000",
          "â?599",
          "â?6,450",
          "â?12,000",
          "â?1,299",
          "â?1,199",
          "â?899",
          "â?200",
          "â?2,399",
          "â?1,500",
          "â?1,699",
          "â?440",
          "â?1,199",
          "â?999",
          "â?1,299",
          "â?999",
          "â?245",
          "â?339",
          "â?999",
          "â?249",
          "â?1,249",
          "â?999",
          "â?475",
          "â?599",
          "â?549",
          "â?899",
          "â?489",
          "â?339",
          "â?1,499",
          "â?1,649",
          "â?1,999",
          "â?1,499",
          "â?299",
          "â?425",
          "â?699",
          "â?659",
          "â?3,100",
          "â?900",
          "â?1,499",
          "â?479.04",
          "â?1,299",
          "â?999",
          "â?964",
          "â?599",
          "â?899",
          "â?1,120",
          "â?250",
          "â?18,000",
          "â?999",
          "â?699",
          "â?799",
          "â?699",
          "â?249",
          "â?1,999",
          "â?3,899",
          "â?1,199",
          "â?999",
          "â?699",
          "â?5,500",
          "â?883",
          "â?1,799",
          "â?1,499",
          "â?14,000",
          "â?999",
          "â?699",
          "â?160",
          "â?599",
          "â?2,425",
          "â?4,000",
          "â?699",
          "â?62,480",
          "â?229",
          "â?1,999",
          "â?1,199",
          "â?1,999",
          "â?1,199",
          "â?1,599",
          "â?519",
          "â?999",
          "â?1,399",
          "â?399",
          "â?2,999",
          "â?1,499",
          "â?569",
          "â?700",
          "â?799",
          "â?750",
          "â?1,299",
          "â?1,099",
          "â?499",
          "â?1,799",
          "â?1,599",
          "â?499",
          "â?1,799",
          "â?4,000",
          "â?1,099",
          "â?799",
          "â?380",
          "â?290",
          "â?1,395",
          "â?650",
          "â?499",
          "â?515",
          "â?251",
          "â?1,399",
          "â?5,800",
          "â?499",
          "â?2,049",
          "â?1,256",
          "â?799",
          "â?749",
          "â?649",
          "â?399",
          "â?2,699",
          "â?575",
          "â?149",
          "â?699",
          "â?199",
          "â?999",
          "â?1,000",
          "â?899",
          "â?41,000",
          "â?145",
          "â?599",
          "â?999",
          "â?1,999",
          "â?999",
          "â?349",
          "â?599",
          "â?2,999",
          "â?3,799",
          "â?700",
          "â?2,599",
          "â?280",
          "â?899",
          "â?3,948",
          "â?496",
          "â?499",
          "â?1,024",
          "â?24,999",
          "â?999",
          "â?799",
          "â?499",
          "â?999",
          "â?3,200",
          "â?699",
          "â?2,189",
          "â?499",
          "â?999",
          "â?399",
          "â?599",
          "â?999",
          "â?1,699",
          "â?998",
          "â?353",
          "â?170",
          "â?139",
          "â?295",
          "â?290",
          "â?295",
          "â?640",
          "â?399",
          "â?55",
          "â?140",
          "â?570",
          "â?650",
          "â?70",
          "â?235",
          "â?73",
          "â?1,070",
          null,
          "â?25",
          "â?600",
          "â?845",
          "â?30",
          "â?325",
          "â?95",
          "â?80",
          "â?145",
          "â?740",
          "â?80",
          "â?22",
          "â?150",
          "â?955",
          "â?848",
          "â?85",
          "â?80",
          "â?30",
          "â?280",
          "â?173",
          "â?40",
          "â?140",
          "â?40",
          "â?89",
          "â?50",
          "â?395",
          "â?400",
          "â?210",
          "â?89",
          "â?219",
          "â?55",
          "â?580",
          "â?750",
          "â?50",
          "â?75",
          "â?595",
          "â?75",
          "â?165",
          "â?500",
          "â?650",
          "â?1,499",
          "â?199",
          "â?135",
          "â?299",
          "â?100",
          "â?130",
          "â?168",
          "â?80",
          "â?180",
          "â?190",
          "â?199",
          "â?250",
          "â?180",
          "â?600",
          "â?198",
          "â?725",
          "â?200",
          "â?70",
          "â?28",
          "â?38,000",
          "â?260",
          "â?700",
          "â?250",
          "â?525",
          "â?92",
          "â?170",
          "â?295",
          "â?184",
          "â?400",
          "â?215",
          "â?299",
          "â?40",
          "â?78",
          "â?899",
          "â?425",
          "â?245",
          "â?749",
          "â?106",
          "â?240",
          "â?299",
          "â?999",
          "â?390",
          "â?3,999",
          "â?646",
          "â?299",
          "â?599",
          "â?799",
          "â?47",
          "â?475",
          "â?395",
          "â?350",
          "â?155",
          "â?135",
          "â?225",
          "â?195",
          "â?690",
          "â?145",
          "â?149",
          "â?55",
          "â?299",
          "â?40",
          "â?249",
          "â?50",
          "â?300",
          "â?35",
          "â?75",
          "â?300",
          "â?150",
          "â?106",
          "â?500",
          "â?101",
          "â?150",
          "â?850",
          "â?99",
          "â?249",
          "â?50",
          "â?300",
          "â?20",
          "â?30",
          "â?65",
          "â?199",
          "â?62",
          "â?199",
          "â?396",
          "â?50",
          "â?290",
          "â?120",
          "â?200",
          "â?435",
          "â?550",
          "â?218",
          "â?390",
          "â?679",
          "â?480",
          "â?700",
          "â?325",
          "â?1,300",
          "â?180",
          "â?190",
          "â?2,400",
          "â?1,495",
          "â?349",
          "â?150",
          "â?390",
          null,
          "â?170",
          "â?249",
          null,
          "â?220",
          "â?295",
          "â?465",
          "â?405",
          "â?500",
          "â?279",
          "â?249",
          "â?545",
          "â?75",
          null,
          "â?55",
          "â?240",
          "â?15",
          "â?290",
          "â?800",
          "â?370",
          "â?1,680",
          "â?249",
          "â?2,599",
          "â?300",
          "â?20",
          "â?549",
          "â?110",
          "â?315",
          "â?349",
          "â?495",
          "â?189",
          "â?248",
          "â?260",
          "â?1,299",
          "â?199",
          "â?1,280",
          "â?250",
          "â?450",
          "â?300",
          "â?210",
          "â?5,600",
          "â?75",
          "â?30",
          "â?650",
          "â?349",
          "â?40",
          "â?160",
          "â?299",
          "â?260",
          "â?295",
          "â?60",
          "â?299",
          "â?125",
          "â?250",
          "â?218",
          "â?3,599",
          "â?109",
          "â?199",
          "â?150",
          "â?335",
          "â?299",
          "â?35",
          "â?365",
          "â?325",
          "â?40",
          "â?299",
          "â?1,299",
          "â?300",
          "â?68",
          "â?399",
          "â?155",
          "â?235",
          "â?65",
          "â?199",
          "â?700",
          "â?210",
          "â?120",
          "â?40",
          "â?55",
          "â?29",
          "â?140",
          "â?70",
          "â?100",
          "â?282",
          "â?27",
          "â?100",
          "â?140",
          "â?198",
          "â?569.01",
          "â?480",
          "â?335",
          "â?1,999",
          "â?364",
          "â?165",
          "â?316",
          "â?1,400",
          "â?82",
          "â?1,499",
          "â?1,500",
          "â?199",
          "â?322",
          "â?399",
          "â?170",
          "â?819",
          "â?319",
          "â?170",
          "â?590",
          "â?904",
          "â?699",
          "â?300",
          "â?726",
          "â?355",
          "â?475",
          "â?237",
          "â?95",
          "â?599",
          "â?322",
          "â?1,445",
          "â?99",
          "â?2,660",
          "â?432",
          "â?352",
          "â?2,295",
          "â?499",
          "â?4,999",
          "â?441",
          "â?649",
          "â?69",
          "â?425",
          "â?6,000",
          "â?899",
          "â?385",
          "â?390",
          "â?300",
          "â?480",
          "â?349",
          "â?1,345",
          "â?199",
          "â?1,545",
          "â?10,590",
          "â?385",
          "â?275",
          "â?1,090",
          "â?1,349",
          "â?2,750",
          "â?425",
          "â?90",
          "â?58,990",
          "â?399",
          "â?599",
          "â?999",
          "â?1,323",
          "â?219",
          "â?4,999",
          "â?332",
          "â?799",
          "â?749",
          "â?171",
          "â?129",
          "â?288",
          "â?139",
          "â?1,499",
          "â?999",
          "â?7,999",
          "â?699",
          "â?499",
          "â?13,150",
          "â?155",
          "â?7,950",
          "â?2,499",
          "â?299",
          "â?3,300",
          "â?799",
          "â?600",
          "â?567",
          "â?3,599",
          "â?965",
          "â?1,999",
          "â?347",
          "â?1,495",
          "â?549",
          "â?75",
          "â?2,999",
          "â?3,390",
          "â?599",
          "â?799",
          "â?999",
          "â?169",
          "â?499",
          "â?800",
          "â?2,000",
          "â?5,295",
          "â?899",
          "â?3,499",
          "â?6,375",
          "â?198",
          "â?1,999",
          "â?998",
          "â?449",
          "â?5,500",
          "â?394",
          "â?799",
          "â?999",
          "â?400",
          "â?759",
          "â?2,999",
          "â?5,850",
          "â?1,050",
          "â?399",
          "â?300",
          "â?2,795",
          "â?499",
          "â?499",
          "â?3,999",
          "â?999",
          "â?3,855",
          "â?1,499",
          "â?175",
          "â?599",
          "â?249",
          "â?1,000",
          "â?999",
          "â?699",
          "â?299",
          "â?299",
          "â?2,599",
          "â?1,450",
          "â?349",
          "â?299",
          "â?1,999",
          "â?999",
          "â?108",
          "â?999",
          "â?70,990",
          "â?999",
          "â?129",
          "â?999",
          "â?169",
          "â?299",
          "â?1,999",
          "â?3,945",
          "â?649",
          "â?495",
          "â?335",
          "â?1,499",
          "â?499",
          "â?699",
          "â?850",
          "â?899",
          "â?599",
          "â?500",
          "â?1,699",
          "â?4,886",
          "â?1,999",
          "â?249",
          "â?899",
          "â?930",
          "â?999",
          "â?70",
          "â?999",
          "â?1,499",
          "â?1,699",
          "â?1,199",
          "â?1,299",
          "â?99",
          "â?497",
          "â?999",
          "â?699",
          "â?1,158",
          "â?104",
          "â?499",
          "â?999",
          "â?24,999",
          "â?899",
          "â?311",
          "â?1,699",
          "â?7,500",
          "â?6,000",
          "â?140",
          "â?1,299",
          "â?799",
          "â?1,499",
          "â?796",
          "â?349",
          "â?17,500",
          "â?2,000",
          "â?1,299",
          "â?3,590",
          "â?699",
          "â?1,199",
          "â?425",
          "â?1,999",
          "â?75",
          "â?999",
          "â?1,800",
          "â?16,990",
          "â?599",
          "â?23,990",
          "â?99",
          "â?1,700",
          "â?199",
          "â?599",
          "â?63,400",
          "â?999",
          "â?1,299",
          "â?899",
          "â?78,490",
          "â?1,999",
          "â?149",
          "â?600",
          "â?80",
          "â?1,099",
          "â?1,025",
          "â?310",
          "â?999",
          "â?349",
          "â?690",
          "â?2,999",
          "â?3,390",
          "â?220",
          "â?289",
          "â?399",
          "â?8,998",
          "â?125",
          "â?660",
          "â?999",
          "â?14,999",
          "â?999",
          "â?749",
          "â?155",
          "â?899",
          "â?1,250",
          "â?99",
          "â?299",
          "â?59,990",
          "â?225",
          "â?1,999",
          "â?349",
          "â?239",
          "â?239",
          "â?699",
          "â?810",
          "â?750",
          "â?760",
          "â?460",
          "â?699",
          "â?1,499",
          "â?899",
          "â?525",
          "â?320",
          "â?2,299",
          "â?840",
          "â?1,060",
          "â?1,180",
          "â?1,598",
          "â?480",
          "â?480",
          "â?999",
          "â?450",
          "â?249",
          "â?800",
          "â?399",
          "â?399",
          "â?230",
          "â?300",
          "â?299",
          "â?999",
          "â?400",
          "â?499",
          "â?110",
          "â?110",
          "â?399",
          "â?399",
          "â?265",
          "â?199",
          "â?525",
          "â?598",
          "â?599",
          "â?499",
          "â?1,200",
          "â?998",
          "â?399",
          "â?1,099",
          "â?2,300",
          "â?1,160",
          "â?599",
          "â?599",
          "â?900",
          "â?700",
          "â?310",
          "â?1,380",
          "â?3,999",
          "â?399",
          "â?3,230",
          "â?2,999",
          "â?359",
          "â?699",
          "â?1,988",
          "â?8,000",
          "â?590",
          "â?499",
          "â?2,250",
          "â?399",
          "â?999",
          "â?699",
          "â?599",
          "â?199",
          "â?599",
          "â?499",
          "â?599",
          "â?670",
          "â?450",
          "â?299",
          "â?575",
          "â?399",
          "â?299",
          "â?450",
          "â?755",
          "â?440",
          "â?575",
          "â?369",
          "â?595",
          "â?1,650",
          "â?1,299",
          "â?3,900",
          "â?995",
          "â?1,668",
          "â?999",
          "â?399",
          "â?2,567",
          "â?1,999",
          "â?99",
          "â?850",
          "â?399",
          "â?600",
          "â?399",
          "â?800",
          "â?597",
          "â?300",
          "â?349",
          "â?299",
          "â?299",
          "â?170",
          "â?999",
          "â?1,052",
          "â?599",
          "â?399",
          "â?899",
          "â?595",
          "â?8,900",
          "â?580",
          "â?1,000",
          "â?598",
          "â?600",
          "â?300",
          "â?630",
          "â?650",
          "â?699",
          "â?399",
          "â?400",
          "â?450",
          "â?649",
          "â?895",
          "â?380",
          "â?198",
          "â?150",
          "â?299",
          "â?500",
          "â?420",
          "â?630",
          "â?520",
          "â?1,375",
          "â?2,000",
          "â?599",
          "â?720",
          "â?4,500",
          "â?9,000",
          "â?299",
          "â?1,000",
          "â?400",
          "â?399",
          "â?399",
          "â?550",
          "â?680",
          "â?899",
          "â?699",
          "â?999",
          "â?830",
          "â?230",
          "â?675",
          "â?999",
          "â?1,618",
          "â?1,169",
          "â?1,098",
          "â?890",
          "â?400",
          "â?1,299",
          "â?600",
          "â?349",
          "â?999",
          "â?180",
          "â?395",
          "â?979",
          "â?750",
          "â?2,940",
          "â?1,499",
          "â?1,100",
          "â?699",
          "â?1,049",
          "â?499",
          "â?2,999",
          "â?799",
          "â?1,999",
          "â?2,999",
          "â?1,200",
          "â?1,499",
          "â?410",
          "â?399",
          "â?299",
          "â?899",
          "â?299",
          "â?1,360",
          "â?391",
          "â?300",
          "â?999",
          "â?599",
          "â?299",
          "â?1,299",
          "â?899",
          "â?350",
          "â?799",
          "â?499",
          "â?1,550",
          "â?999",
          "â?1,800",
          "â?699",
          "â?1,299",
          "â?399",
          "â?999",
          "â?160",
          "â?584.16",
          "â?799",
          "â?499",
          "â?3,999",
          "â?3,495",
          "â?7,238",
          "â?1,262",
          "â?240",
          "â?999",
          "â?2,100",
          "â?350",
          "â?1,499",
          "â?5,399",
          "â?2,295",
          "â?1,799",
          "â?125",
          "â?305",
          "â?1,499",
          "â?600",
          "â?1,999",
          "â?1,999",
          "â?499",
          "â?540",
          "â?80",
          "â?7,078",
          "â?850",
          "â?2,300",
          "â?500",
          "â?599",
          "â?299",
          "â?750",
          "â?3,958",
          "â?200",
          "â?29,990",
          "â?2,000",
          "â?999",
          "â?76",
          "â?849",
          "â?1,245",
          "â?80",
          "â?1,199",
          "â?3,999",
          "â?4,999",
          "â?499",
          "â?308",
          "â?145",
          "â?1,999",
          "â?185",
          "â?1,000",
          "â?13,200",
          "â?352",
          null,
          "â?995",
          "â?2,339",
          "â?999",
          "â?900",
          "â?499",
          "â?799",
          "â?590",
          "â?999",
          "â?8,800",
          "â?549",
          "â?999",
          "â?1,999",
          "â?899",
          "â?105",
          "â?4,999",
          "â?1,995",
          "â?1,099",
          "â?3,999",
          "â?441",
          "â?2,995",
          "â?1,999",
          "â?645",
          "â?185",
          "â?18,495",
          "â?740",
          "â?999",
          "â?999",
          "â?1,999",
          "â?1,199",
          "â?2,599",
          "â?486",
          "â?1,995",
          "â?185",
          "â?2,845",
          "â?325",
          "â?375",
          "â?350",
          "â?499",
          "â?3,695",
          "â?3,160",
          "â?599",
          "â?499",
          "â?550",
          "â?2,849",
          "â?999",
          "â?225",
          "â?450",
          "â?205",
          "â?1,999",
          "â?5,995",
          "â?999",
          "â?149",
          "â?6,799",
          "â?479",
          "â?799",
          "â?999",
          "â?325",
          "â?4,395",
          "â?2,599",
          "â?349",
          "â?160",
          "â?777",
          "â?418",
          "â?2,995",
          "â?999",
          "â?3,299",
          "â?230",
          "â?4,878",
          "â?1,299",
          "â?349",
          "â?250",
          "â?1,599",
          "â?349",
          "â?699",
          "â?329",
          "â?1,999",
          "â?799",
          "â?1,799",
          "â?199",
          "â?649",
          "â?1,995",
          "â?249",
          "â?999",
          "â?499",
          "â?450",
          "â?2,999",
          "â?3,000",
          "â?499",
          "â?675",
          "â?72,800",
          "â?300",
          "â?11,999",
          "â?399",
          "â?285",
          "â?249",
          "â?1,999",
          "â?3,999",
          "â?299",
          "â?950",
          "â?5,999",
          "â?5,999",
          "â?999",
          "â?1,199",
          "â?465",
          "â?275",
          "â?1,699",
          "â?499",
          "â?2,899",
          "â?2,500",
          "â?344",
          "â?1,499",
          "â?999",
          "â?3,495",
          "â?1,290",
          "â?499",
          "â?1,099",
          "â?999",
          "â?1,499",
          "â?50",
          "â?2,999",
          "â?999",
          "â?999",
          "â?700",
          "â?383",
          "â?899",
          "â?499",
          "â?7,995",
          "â?2,199",
          "â?3,210",
          "â?999",
          "â?749",
          "â?999",
          "â?1,999",
          "â?9,050",
          "â?3,495",
          "â?799",
          "â?499",
          "â?999",
          "â?3,399",
          "â?1,090",
          "â?415",
          "â?3,799",
          "â?500",
          "â?299",
          "â?669",
          "â?1,599",
          "â?474",
          "â?479",
          "â?218",
          "â?320",
          "â?59",
          "â?285",
          "â?170",
          "â?75",
          "â?259",
          "â?1,099",
          "â?95",
          "â?165",
          "â?249",
          "â?699",
          "â?240",
          "â?999",
          "â?349",
          "â?1,999",
          "â?199",
          "â?440",
          "â?1,120",
          "â?601",
          "â?599",
          "â?200",
          "â?700",
          "â?1,140",
          "â?229",
          "â?599",
          "â?1,999",
          "â?1,499",
          "â?550",
          "â?899",
          "â?249",
          "â?62",
          "â?315",
          "â?170",
          "â?349",
          "â?599",
          "â?2,299",
          "â?385",
          "â?179",
          "â?900",
          "â?99",
          "â?49",
          "â?449",
          "â?549",
          "â?105",
          "â?1,000",
          "â?2,699",
          "â?1,800",
          "â?700",
          "â?1,999",
          "â?1,899",
          "â?999",
          "â?3,990",
          "â?499",
          "â?499",
          "â?999",
          "â?995",
          "â?549",
          "â?699",
          "â?3,500",
          "â?2,495",
          "â?1,999",
          "â?2,900",
          "â?995",
          "â?699",
          "â?700",
          "â?1,600",
          "â?1,999",
          "â?1,999",
          "â?499",
          "â?999",
          "â?5,000",
          "â?4,999",
          "â?900",
          "â?750",
          "â?999",
          "â?1,800",
          "â?800",
          "â?999",
          "â?499",
          "â?799",
          "â?833",
          "â?599",
          "â?400",
          "â?995",
          "â?999",
          "â?999",
          "â?5,999",
          "â?699",
          "â?899",
          "â?475",
          "â?999",
          "â?799",
          "â?1,815",
          "â?1,295",
          "â?699",
          "â?999",
          "â?599",
          "â?1,499",
          "â?899",
          "â?499",
          "â?2,250",
          "â?3,700",
          "â?2,500",
          "â?999",
          "â?1,600",
          "â?5,300",
          null,
          "â?2,600",
          "â?1,250",
          "â?2,900",
          "â?1,195",
          "â?3,900",
          "â?1,595",
          "â?7,500",
          "â?999",
          "â?1,850",
          "â?399",
          "â?18,899",
          "â?3,500",
          "â?1,199",
          "â?1,295",
          "â?595",
          "â?1,800",
          "â?1,700",
          "â?7,100",
          "â?599",
          "â?599",
          "â?795",
          "â?1,795",
          "â?999",
          "â?249",
          "â?18,899",
          "â?999",
          "â?500",
          "â?850",
          "â?499",
          "â?1,299",
          "â?449",
          "â?499",
          "â?1,550",
          "â?299",
          "â?900",
          "â?3,500",
          "â?199",
          "â?999",
          "â?105",
          "â?873",
          "â?799",
          "â?1,299",
          "â?998",
          "â?396",
          "â?999",
          "â?1,599",
          "â?599",
          "â?469",
          "â?1,599",
          "â?419",
          "â?999",
          "â?1,499",
          "â?899",
          "â?1,299",
          "â?1,299",
          "â?799",
          "â?790",
          "â?899",
          "â?999",
          "â?419",
          "â?1,390",
          "â?3,999",
          "â?999",
          "â?105",
          "â?1,499",
          "â?999",
          "â?10,999",
          "â?999",
          "â?1,699",
          "â?599",
          "â?999",
          "â?999",
          "â?799",
          "â?1,980",
          "â?600",
          "â?499",
          "â?499",
          "â?499",
          "â?425",
          "â?399",
          "â?899",
          "â?999",
          "â?2,198",
          "â?3,499",
          "â?208",
          "â?3,628.90",
          "â?1,199",
          "â?999",
          "â?698",
          "â?6,999",
          "â?699",
          "â?1,300",
          "â?876",
          "â?899",
          "â?799",
          "â?4,999",
          "â?13,800",
          "â?799",
          "â?8,999",
          "â?799",
          "â?4,999",
          "â?599",
          "â?1,399",
          "â?728",
          "â?399",
          "â?349",
          "â?3,570",
          "â?999",
          "â?999",
          "â?1,299",
          null,
          "â?999",
          "â?999",
          "â?21,999",
          "â?249",
          "â?599",
          "â?1,497",
          "â?199",
          "â?10,999",
          "â?749",
          "â?999",
          "â?300",
          "â?599",
          "â?1,595",
          "â?999",
          "â?899",
          "â?2,499",
          "â?35,990",
          "â?1,100",
          "â?2,351",
          "â?799",
          "â?1,299",
          "â?1,899",
          "â?1,050",
          "â?1,799",
          "â?999",
          "â?699",
          "â?4,495",
          "â?4,495",
          "â?3,495",
          "â?4,495",
          "â?3,495",
          "â?4,495",
          "â?1,099",
          "â?3,495",
          "â?899",
          "â?849",
          "â?4,495",
          "â?5,995",
          "â?3,299",
          "â?3,495",
          "â?3,999",
          "â?3,495",
          "â?2,999",
          "â?3,495",
          "â?949",
          "â?4,795",
          "â?2,995",
          "â?999",
          "â?3,495",
          "â?3,495",
          "â?3,495",
          "â?4,495",
          "â?2,999",
          "â?3,495",
          "â?3,499",
          "â?499",
          "â?699",
          "â?1,799",
          "â?4,495",
          "â?1,649",
          "â?999",
          "â?3,995",
          "â?4,795",
          "â?3,795",
          "â?1,199",
          "â?1,299",
          "â?1,349",
          "â?3,495",
          "â?999",
          "â?7,299",
          "â?2,199",
          "â?922",
          "â?3,995",
          "â?499",
          "â?999",
          "â?1,799",
          "â?2,999",
          "â?3,199",
          "â?949",
          "â?3,995",
          "â?3,995",
          "â?5,599",
          "â?2,799",
          "â?849",
          "â?7,599",
          "â?1,199",
          "â?3,995",
          "â?3,999",
          "â?1,999",
          "â?1,599",
          "â?6,899",
          "â?4,495",
          "â?999",
          "â?1,699",
          "â?4,299",
          "â?499",
          "â?400",
          "â?3,299",
          "â?2,199",
          "â?746",
          "â?299",
          "â?2,495",
          "â?2,499",
          "â?3,495",
          "â?5,999",
          "â?4,295",
          "â?1,099",
          "â?2,999",
          "â?7,599",
          null,
          "â?999",
          "â?2,999",
          "â?4,490",
          "â?999",
          "â?1,599",
          "â?799",
          "â?999",
          "â?599",
          "â?999",
          "â?3,995",
          "â?1,299",
          "â?4,495",
          "â?499",
          "â?4,999",
          "â?3,895",
          "â?999",
          "â?2,995",
          "â?3,495",
          "â?649",
          "â?4,495",
          "â?1,699",
          "â?3,995",
          "â?2,399",
          "â?1,099",
          "â?2,999",
          "â?799",
          "â?699",
          "â?3,495",
          "â?899",
          "â?899",
          "â?999",
          "â?1,799",
          "â?4,999",
          null,
          "â?1,999",
          "â?597",
          "â?2,995",
          "â?4,499",
          "â?4,299",
          "â?599",
          "â?4,795",
          "â?999",
          "â?1,299",
          "â?1,199",
          "â?2,999",
          "â?1,299",
          "â?5,499",
          "â?599",
          "â?1,599",
          "â?3,495",
          "â?1,199",
          "â?1,199",
          "â?4,499",
          "â?2,799",
          "â?6,499",
          "â?3,999",
          "â?3,795",
          "â?3,399",
          "â?3,495",
          "â?5,499",
          "â?3,495",
          "â?3,795",
          "â?4,495",
          "â?3,499",
          "â?4,999",
          "â?1,399",
          "â?2,499",
          "â?2,490",
          "â?2,999",
          "â?2,199",
          "â?4,999",
          "â?600",
          "â?999",
          "â?1,799",
          "â?2,995",
          "â?4,499",
          "â?1,099",
          "â?5,999",
          "â?4,999",
          "â?4,195",
          "â?1,499",
          "â?1,499",
          "â?3,495",
          "â?2,399",
          "â?3,499",
          "â?975",
          "â?1,299",
          "â?1,999",
          "â?3,995",
          "â?599",
          "â?599",
          "â?3,495",
          "â?2,099",
          "â?4,799",
          "â?949",
          "â?5,199",
          "â?2,495",
          "â?1,299",
          "â?4,499",
          "â?5,499",
          "â?999",
          "â?5,599",
          "â?1,198",
          "â?4,195",
          "â?1,799",
          "â?1,999",
          "â?2,999",
          "â?6,999",
          "â?999",
          "â?649",
          "â?1,699",
          "â?1,999",
          "â?3,399",
          "â?2,199",
          "â?3,499",
          "â?1,599",
          "â?2,999",
          "â?4,499",
          "â?2,999",
          "â?1,099",
          "â?1,499",
          "â?1,799",
          "â?649",
          "â?999",
          "â?9,999",
          "â?1,599",
          "â?999",
          "â?3,999",
          "â?3,399",
          null,
          "â?4,399",
          "â?2,999",
          "â?3,999",
          "â?999",
          "â?1,497",
          "â?999",
          "â?3,999",
          "â?999",
          "â?999",
          "â?1,999",
          "â?3,699",
          "â?3,999",
          "â?3,795",
          "â?4,999",
          "â?4,299",
          "â?2,899",
          "â?2,995",
          "â?4,799",
          "â?999",
          "â?5,999",
          "â?3,795",
          "â?1,299",
          "â?1,099",
          "â?1,999",
          "â?7,599",
          "â?2,699",
          "â?2,199",
          "â?999",
          "â?799",
          "â?3,495",
          "â?1,499",
          "â?2,499",
          "â?1,799",
          "â?2,399",
          "â?1,599",
          "â?4,495",
          "â?1,499",
          "â?899",
          "â?3,495",
          "â?499",
          "â?1,599",
          "â?3,795",
          "â?3,495",
          "â?899",
          "â?6,999",
          "â?2,499",
          "â?2,499",
          "â?2,999",
          "â?2,699",
          "â?4,495",
          "â?1,599",
          "â?999",
          "â?8,499",
          "â?799",
          "â?450",
          "â?3,695",
          "â?799",
          "â?649",
          "â?4,495",
          "â?2,499",
          "â?3,999",
          "â?7,999",
          "â?1,299",
          "â?8,999",
          "â?6,999",
          "â?3,999",
          "â?2,799",
          "â?999",
          "â?3,795",
          "â?4,499",
          "â?3,795",
          "â?3,999",
          "â?1,299",
          "â?3,199",
          "â?1,499",
          "â?1,299",
          "â?4,299",
          "â?5,999",
          "â?2,999",
          "â?4,495",
          "â?999",
          "â?3,495",
          "â?1,999",
          "â?1,099",
          "â?1,099",
          "â?2,397",
          "â?1,999",
          "â?1,099",
          "â?1,099",
          "â?915",
          "â?1,299",
          "â?699",
          "â?1,799",
          "â?549",
          "â?549",
          "â?1,099",
          "â?1,099",
          "â?2,097",
          "â?999",
          "â?1,299",
          "â?1,299",
          "â?1,199",
          "â?1,099",
          "â?999",
          "â?1,199",
          "â?1,099",
          "â?699",
          "â?1,099",
          "â?1,099",
          "â?799",
          "â?1,099",
          "â?379",
          "â?1,499",
          "â?1,099",
          "â?1,299",
          "â?1,199",
          "â?1,299",
          "â?1,199",
          "â?2,195",
          "â?1,199",
          "â?2,399",
          "â?449",
          "â?579",
          "â?1,399",
          "â?1,099",
          "â?1,999",
          "â?1,149",
          "â?1,099",
          "â?1,299",
          "â?1,499",
          "â?1,499",
          "â?399",
          "â?1,099",
          "â?1,499",
          "â?999",
          "â?1,299",
          "â?1,199",
          "â?1,199",
          "â?1,199",
          "â?1,199",
          "â?1,099",
          "â?2,499",
          "â?1,099",
          "â?999",
          "â?1,399",
          "â?1,199",
          "â?749",
          "â?2,499",
          "â?1,099",
          "â?899",
          "â?1,499",
          "â?1,499",
          "â?1,499",
          "â?699",
          "â?1,599",
          "â?1,899",
          "â?749",
          "â?1,199",
          "â?1,199",
          "â?1,899",
          "â?2,499",
          "â?2,198",
          "â?1,599",
          "â?1,099",
          "â?1,099",
          "â?999",
          "â?1,399",
          "â?1,099",
          "â?1,599",
          "â?1,199",
          "â?5,196",
          "â?799",
          "â?999",
          "â?2,499",
          "â?1,399",
          "â?1,099",
          "â?1,599",
          "â?1,398",
          "â?1,099",
          "â?699",
          "â?1,099",
          "â?1,249",
          "â?1,499",
          "â?1,299",
          "â?2,598",
          "â?899",
          "â?1,099",
          "â?1,599",
          "â?1,199",
          "â?1,299",
          "â?549",
          "â?669",
          "â?2,499",
          "â?1,319",
          "â?1,099",
          "â?1,299",
          "â?1,299",
          "â?1,499",
          "â?1,099",
          "â?1,699",
          "â?999",
          "â?999",
          "â?1,449",
          "â?999",
          "â?1,099",
          "â?1,999",
          "â?1,299",
          "â?1,399",
          "â?899",
          "â?4,995",
          "â?2,097",
          "â?899",
          "â?999",
          "â?1,599",
          "â?1,599",
          "â?1,099",
          "â?999",
          "â?1,199",
          "â?699",
          "â?1,199",
          "â?2,399",
          "â?999",
          "â?1,999",
          "â?1,399",
          "â?999",
          "â?999",
          "â?2,499",
          "â?1,599",
          "â?1,099",
          "â?899",
          "â?1,149",
          "â?1,099",
          "â?1,299",
          "â?599",
          "â?1,199",
          "â?1,499",
          "â?1,299",
          "â?1,499",
          "â?1,599",
          "â?1,699",
          "â?1,599",
          "â?499",
          "â?998",
          "â?2,999",
          "â?1,199",
          "â?999",
          "â?549",
          "â?299",
          "â?1,199",
          "â?1,699",
          "â?899",
          "â?1,495",
          "â?1,199",
          "â?1,099",
          "â?1,499",
          "â?1,199",
          "â?1,499",
          "â?999",
          "â?1,199",
          "â?1,499",
          "â?2,099",
          "â?1,299",
          "â?1,299",
          "â?1,099",
          "â?699",
          "â?1,999",
          "â?1,099",
          "â?999",
          "â?1,499",
          "â?1,499",
          "â?1,599",
          "â?888",
          "â?1,399",
          "â?1,999",
          "â?1,299",
          "â?779",
          "â?1,899",
          "â?1,099",
          "â?3,998",
          "â?999",
          "â?899",
          "â?1,099",
          "â?998",
          "â?2,999",
          "â?1,660",
          "â?399",
          "â?1,599",
          "â?999",
          "â?2,499",
          "â?1,199",
          "â?899",
          "â?1,799",
          "â?1,099",
          "â?1,599",
          "â?2,499",
          "â?1,499",
          "â?1,399",
          "â?499",
          "â?1,099",
          "â?1,199",
          "â?2,999",
          "â?1,660",
          "â?2,499",
          "â?1,299",
          "â?1,029",
          "â?599",
          "â?849",
          "â?1,499",
          "â?1,099",
          "â?999",
          "â?1,099",
          "â?999",
          "â?999",
          "â?1,499",
          "â?1,099",
          "â?1,999",
          "â?1,199",
          "â?1,099",
          "â?1,799",
          "â?1,299",
          "â?1,299",
          "â?1,299",
          "â?2,499",
          "â?1,049",
          "â?899",
          "â?749",
          "â?3,897",
          "â?1,099",
          "â?1,399",
          "â?2,399",
          "â?1,199",
          "â?1,799",
          "â?799",
          "â?1,199",
          "â?1,499",
          "â?1,299",
          "â?2,399",
          "â?999",
          "â?1,599",
          "â?999",
          "â?499",
          "â?1,299",
          "â?1,299",
          "â?899",
          "â?999",
          "â?2,999",
          "â?1,199",
          "â?2,399",
          "â?1,299",
          "â?1,199",
          null,
          "â?1,799",
          "â?1,599",
          "â?699",
          "â?1,499",
          "â?1,499",
          null,
          "â?899",
          "â?499",
          "â?899",
          "â?919",
          "â?1,199",
          "â?1,899",
          "â?999",
          "â?1,999",
          "â?1,099",
          "â?999",
          "â?1,099",
          "â?2,599",
          "â?1,099",
          "â?1,199",
          "â?1,199",
          "â?1,999",
          "â?1,499",
          "â?1,099",
          "â?899",
          "â?1,799",
          "â?2,099",
          "â?999",
          "â?1,099",
          "â?1,499",
          "â?1,199",
          "â?799",
          "â?1,199",
          "â?499",
          "â?1,099",
          "â?1,099",
          "â?999",
          "â?1,499",
          "â?1,099",
          "â?1,099",
          "â?799",
          "â?2,598",
          "â?1,399",
          "â?1,299",
          "â?438",
          "â?1,799",
          "â?999",
          "â?1,299",
          "â?999",
          "â?999",
          "â?1,799",
          "â?1,399",
          "â?1,199",
          "â?899",
          "â?2,190",
          "â?999",
          "â?1,199",
          "â?1,200",
          "â?1,665",
          "â?699",
          "â?999",
          "â?1,399",
          "â?1,399",
          "â?1,299",
          "â?1,099",
          "â?999",
          "â?899",
          "â?2,599",
          "â?1,799",
          "â?1,099",
          "â?1,299",
          "â?1,099",
          "â?1,999",
          "â?1,599",
          "â?999",
          "â?1,399",
          "â?899",
          "â?1,599",
          "â?999",
          "â?999",
          "â?1,299",
          "â?669",
          "â?999",
          "â?799",
          "â?1,099",
          "â?1,299",
          "â?999",
          "â?1,665",
          "â?1,999",
          "â?999",
          "â?1,299",
          "â?899",
          "â?899",
          "â?889",
          "â?799",
          "â?999",
          "â?1,299",
          "â?999",
          "â?2,499",
          "â?1,499",
          "â?699",
          "â?1,499",
          "â?1,099",
          "â?999",
          "â?2,299",
          "â?999",
          "â?3,495",
          "â?1,299",
          "â?1,099",
          "â?999",
          "â?2,999",
          "â?1,499",
          "â?999",
          "â?899",
          "â?1,399",
          "â?1,998",
          "â?2,599",
          "â?2,699",
          "â?1,299",
          "â?1,199",
          "â?399",
          "â?1,299",
          "â?1,199",
          "â?1,599",
          "â?1,099",
          "â?2,999",
          "â?1,499",
          "â?1,099",
          "â?999",
          "â?499",
          "â?1,999",
          "â?1,999",
          "â?1,199",
          "â?599",
          "â?999",
          "â?1,049",
          "â?2,598",
          "â?1,099",
          "â?1,499",
          "â?1,199",
          "â?1,299",
          "â?994",
          "â?2,499",
          "â?1,599",
          "â?999",
          "â?1,699",
          "â?2,598",
          "â?1,999",
          "â?1,999",
          "â?2,598",
          "â?899",
          "â?999",
          "â?1,299",
          "â?549",
          "â?1,399",
          "â?1,099",
          "â?2,997",
          "â?1,299",
          "â?2,499",
          "â?1,099",
          "â?1,599",
          "â?1,099",
          "â?888",
          "â?1,499",
          "â?1,599",
          "â?549",
          "â?1,099",
          "â?2,999",
          "â?1,499",
          "â?799",
          "â?1,499",
          "â?999",
          "â?1,999",
          "â?2,999",
          "â?1,049",
          "â?999",
          "â?4,499",
          "â?1,099",
          "â?1,299",
          "â?2,999",
          "â?2,765",
          "â?899",
          "â?1,699",
          "â?1,299",
          "â?999",
          "â?999",
          "â?1,299",
          "â?899",
          "â?749",
          "â?1,499",
          "â?2,399",
          null,
          "â?2,799",
          "â?1,049",
          "â?1,599",
          "â?1,299",
          "â?2,699",
          "â?1,799",
          "â?1,599",
          "â?1,999",
          "â?1,199",
          "â?999",
          "â?1,099",
          "â?1,499",
          "â?649",
          "â?999",
          "â?899",
          "â?1,098",
          "â?1,399",
          "â?2,598",
          "â?1,499",
          "â?1,998",
          "â?1,799",
          "â?1,999",
          "â?999",
          "â?1,099",
          "â?2,499",
          "â?1,999",
          "â?1,599",
          "â?2,499",
          "â?1,499",
          "â?1,099",
          "â?799",
          "â?999",
          "â?899",
          "â?1,699",
          "â?1,399",
          null,
          "â?1,699",
          "â?799",
          "â?1,999"
         ],
         "xaxis": "x",
         "yaxis": "y"
        }
       ],
       "layout": {
        "barmode": "relative",
        "legend": {
         "tracegroupgap": 0
        },
        "template": {
         "data": {
          "bar": [
           {
            "error_x": {
             "color": "#2a3f5f"
            },
            "error_y": {
             "color": "#2a3f5f"
            },
            "marker": {
             "line": {
              "color": "white",
              "width": 0.5
             },
             "pattern": {
              "fillmode": "overlay",
              "size": 10,
              "solidity": 0.2
             }
            },
            "type": "bar"
           }
          ],
          "barpolar": [
           {
            "marker": {
             "line": {
              "color": "white",
              "width": 0.5
             },
             "pattern": {
              "fillmode": "overlay",
              "size": 10,
              "solidity": 0.2
             }
            },
            "type": "barpolar"
           }
          ],
          "carpet": [
           {
            "aaxis": {
             "endlinecolor": "#2a3f5f",
             "gridcolor": "#C8D4E3",
             "linecolor": "#C8D4E3",
             "minorgridcolor": "#C8D4E3",
             "startlinecolor": "#2a3f5f"
            },
            "baxis": {
             "endlinecolor": "#2a3f5f",
             "gridcolor": "#C8D4E3",
             "linecolor": "#C8D4E3",
             "minorgridcolor": "#C8D4E3",
             "startlinecolor": "#2a3f5f"
            },
            "type": "carpet"
           }
          ],
          "choropleth": [
           {
            "colorbar": {
             "outlinewidth": 0,
             "ticks": ""
            },
            "type": "choropleth"
           }
          ],
          "contour": [
           {
            "colorbar": {
             "outlinewidth": 0,
             "ticks": ""
            },
            "colorscale": [
             [
              0,
              "#0d0887"
             ],
             [
              0.1111111111111111,
              "#46039f"
             ],
             [
              0.2222222222222222,
              "#7201a8"
             ],
             [
              0.3333333333333333,
              "#9c179e"
             ],
             [
              0.4444444444444444,
              "#bd3786"
             ],
             [
              0.5555555555555556,
              "#d8576b"
             ],
             [
              0.6666666666666666,
              "#ed7953"
             ],
             [
              0.7777777777777778,
              "#fb9f3a"
             ],
             [
              0.8888888888888888,
              "#fdca26"
             ],
             [
              1,
              "#f0f921"
             ]
            ],
            "type": "contour"
           }
          ],
          "contourcarpet": [
           {
            "colorbar": {
             "outlinewidth": 0,
             "ticks": ""
            },
            "type": "contourcarpet"
           }
          ],
          "heatmap": [
           {
            "colorbar": {
             "outlinewidth": 0,
             "ticks": ""
            },
            "colorscale": [
             [
              0,
              "#0d0887"
             ],
             [
              0.1111111111111111,
              "#46039f"
             ],
             [
              0.2222222222222222,
              "#7201a8"
             ],
             [
              0.3333333333333333,
              "#9c179e"
             ],
             [
              0.4444444444444444,
              "#bd3786"
             ],
             [
              0.5555555555555556,
              "#d8576b"
             ],
             [
              0.6666666666666666,
              "#ed7953"
             ],
             [
              0.7777777777777778,
              "#fb9f3a"
             ],
             [
              0.8888888888888888,
              "#fdca26"
             ],
             [
              1,
              "#f0f921"
             ]
            ],
            "type": "heatmap"
           }
          ],
          "heatmapgl": [
           {
            "colorbar": {
             "outlinewidth": 0,
             "ticks": ""
            },
            "colorscale": [
             [
              0,
              "#0d0887"
             ],
             [
              0.1111111111111111,
              "#46039f"
             ],
             [
              0.2222222222222222,
              "#7201a8"
             ],
             [
              0.3333333333333333,
              "#9c179e"
             ],
             [
              0.4444444444444444,
              "#bd3786"
             ],
             [
              0.5555555555555556,
              "#d8576b"
             ],
             [
              0.6666666666666666,
              "#ed7953"
             ],
             [
              0.7777777777777778,
              "#fb9f3a"
             ],
             [
              0.8888888888888888,
              "#fdca26"
             ],
             [
              1,
              "#f0f921"
             ]
            ],
            "type": "heatmapgl"
           }
          ],
          "histogram": [
           {
            "marker": {
             "pattern": {
              "fillmode": "overlay",
              "size": 10,
              "solidity": 0.2
             }
            },
            "type": "histogram"
           }
          ],
          "histogram2d": [
           {
            "colorbar": {
             "outlinewidth": 0,
             "ticks": ""
            },
            "colorscale": [
             [
              0,
              "#0d0887"
             ],
             [
              0.1111111111111111,
              "#46039f"
             ],
             [
              0.2222222222222222,
              "#7201a8"
             ],
             [
              0.3333333333333333,
              "#9c179e"
             ],
             [
              0.4444444444444444,
              "#bd3786"
             ],
             [
              0.5555555555555556,
              "#d8576b"
             ],
             [
              0.6666666666666666,
              "#ed7953"
             ],
             [
              0.7777777777777778,
              "#fb9f3a"
             ],
             [
              0.8888888888888888,
              "#fdca26"
             ],
             [
              1,
              "#f0f921"
             ]
            ],
            "type": "histogram2d"
           }
          ],
          "histogram2dcontour": [
           {
            "colorbar": {
             "outlinewidth": 0,
             "ticks": ""
            },
            "colorscale": [
             [
              0,
              "#0d0887"
             ],
             [
              0.1111111111111111,
              "#46039f"
             ],
             [
              0.2222222222222222,
              "#7201a8"
             ],
             [
              0.3333333333333333,
              "#9c179e"
             ],
             [
              0.4444444444444444,
              "#bd3786"
             ],
             [
              0.5555555555555556,
              "#d8576b"
             ],
             [
              0.6666666666666666,
              "#ed7953"
             ],
             [
              0.7777777777777778,
              "#fb9f3a"
             ],
             [
              0.8888888888888888,
              "#fdca26"
             ],
             [
              1,
              "#f0f921"
             ]
            ],
            "type": "histogram2dcontour"
           }
          ],
          "mesh3d": [
           {
            "colorbar": {
             "outlinewidth": 0,
             "ticks": ""
            },
            "type": "mesh3d"
           }
          ],
          "parcoords": [
           {
            "line": {
             "colorbar": {
              "outlinewidth": 0,
              "ticks": ""
             }
            },
            "type": "parcoords"
           }
          ],
          "pie": [
           {
            "automargin": true,
            "type": "pie"
           }
          ],
          "scatter": [
           {
            "fillpattern": {
             "fillmode": "overlay",
             "size": 10,
             "solidity": 0.2
            },
            "type": "scatter"
           }
          ],
          "scatter3d": [
           {
            "line": {
             "colorbar": {
              "outlinewidth": 0,
              "ticks": ""
             }
            },
            "marker": {
             "colorbar": {
              "outlinewidth": 0,
              "ticks": ""
             }
            },
            "type": "scatter3d"
           }
          ],
          "scattercarpet": [
           {
            "marker": {
             "colorbar": {
              "outlinewidth": 0,
              "ticks": ""
             }
            },
            "type": "scattercarpet"
           }
          ],
          "scattergeo": [
           {
            "marker": {
             "colorbar": {
              "outlinewidth": 0,
              "ticks": ""
             }
            },
            "type": "scattergeo"
           }
          ],
          "scattergl": [
           {
            "marker": {
             "colorbar": {
              "outlinewidth": 0,
              "ticks": ""
             }
            },
            "type": "scattergl"
           }
          ],
          "scattermapbox": [
           {
            "marker": {
             "colorbar": {
              "outlinewidth": 0,
              "ticks": ""
             }
            },
            "type": "scattermapbox"
           }
          ],
          "scatterpolar": [
           {
            "marker": {
             "colorbar": {
              "outlinewidth": 0,
              "ticks": ""
             }
            },
            "type": "scatterpolar"
           }
          ],
          "scatterpolargl": [
           {
            "marker": {
             "colorbar": {
              "outlinewidth": 0,
              "ticks": ""
             }
            },
            "type": "scatterpolargl"
           }
          ],
          "scatterternary": [
           {
            "marker": {
             "colorbar": {
              "outlinewidth": 0,
              "ticks": ""
             }
            },
            "type": "scatterternary"
           }
          ],
          "surface": [
           {
            "colorbar": {
             "outlinewidth": 0,
             "ticks": ""
            },
            "colorscale": [
             [
              0,
              "#0d0887"
             ],
             [
              0.1111111111111111,
              "#46039f"
             ],
             [
              0.2222222222222222,
              "#7201a8"
             ],
             [
              0.3333333333333333,
              "#9c179e"
             ],
             [
              0.4444444444444444,
              "#bd3786"
             ],
             [
              0.5555555555555556,
              "#d8576b"
             ],
             [
              0.6666666666666666,
              "#ed7953"
             ],
             [
              0.7777777777777778,
              "#fb9f3a"
             ],
             [
              0.8888888888888888,
              "#fdca26"
             ],
             [
              1,
              "#f0f921"
             ]
            ],
            "type": "surface"
           }
          ],
          "table": [
           {
            "cells": {
             "fill": {
              "color": "#EBF0F8"
             },
             "line": {
              "color": "white"
             }
            },
            "header": {
             "fill": {
              "color": "#C8D4E3"
             },
             "line": {
              "color": "white"
             }
            },
            "type": "table"
           }
          ]
         },
         "layout": {
          "annotationdefaults": {
           "arrowcolor": "#2a3f5f",
           "arrowhead": 0,
           "arrowwidth": 1
          },
          "autotypenumbers": "strict",
          "coloraxis": {
           "colorbar": {
            "outlinewidth": 0,
            "ticks": ""
           }
          },
          "colorscale": {
           "diverging": [
            [
             0,
             "#8e0152"
            ],
            [
             0.1,
             "#c51b7d"
            ],
            [
             0.2,
             "#de77ae"
            ],
            [
             0.3,
             "#f1b6da"
            ],
            [
             0.4,
             "#fde0ef"
            ],
            [
             0.5,
             "#f7f7f7"
            ],
            [
             0.6,
             "#e6f5d0"
            ],
            [
             0.7,
             "#b8e186"
            ],
            [
             0.8,
             "#7fbc41"
            ],
            [
             0.9,
             "#4d9221"
            ],
            [
             1,
             "#276419"
            ]
           ],
           "sequential": [
            [
             0,
             "#0d0887"
            ],
            [
             0.1111111111111111,
             "#46039f"
            ],
            [
             0.2222222222222222,
             "#7201a8"
            ],
            [
             0.3333333333333333,
             "#9c179e"
            ],
            [
             0.4444444444444444,
             "#bd3786"
            ],
            [
             0.5555555555555556,
             "#d8576b"
            ],
            [
             0.6666666666666666,
             "#ed7953"
            ],
            [
             0.7777777777777778,
             "#fb9f3a"
            ],
            [
             0.8888888888888888,
             "#fdca26"
            ],
            [
             1,
             "#f0f921"
            ]
           ],
           "sequentialminus": [
            [
             0,
             "#0d0887"
            ],
            [
             0.1111111111111111,
             "#46039f"
            ],
            [
             0.2222222222222222,
             "#7201a8"
            ],
            [
             0.3333333333333333,
             "#9c179e"
            ],
            [
             0.4444444444444444,
             "#bd3786"
            ],
            [
             0.5555555555555556,
             "#d8576b"
            ],
            [
             0.6666666666666666,
             "#ed7953"
            ],
            [
             0.7777777777777778,
             "#fb9f3a"
            ],
            [
             0.8888888888888888,
             "#fdca26"
            ],
            [
             1,
             "#f0f921"
            ]
           ]
          },
          "colorway": [
           "#636efa",
           "#EF553B",
           "#00cc96",
           "#ab63fa",
           "#FFA15A",
           "#19d3f3",
           "#FF6692",
           "#B6E880",
           "#FF97FF",
           "#FECB52"
          ],
          "font": {
           "color": "#2a3f5f"
          },
          "geo": {
           "bgcolor": "white",
           "lakecolor": "white",
           "landcolor": "white",
           "showlakes": true,
           "showland": true,
           "subunitcolor": "#C8D4E3"
          },
          "hoverlabel": {
           "align": "left"
          },
          "hovermode": "closest",
          "mapbox": {
           "style": "light"
          },
          "paper_bgcolor": "white",
          "plot_bgcolor": "white",
          "polar": {
           "angularaxis": {
            "gridcolor": "#EBF0F8",
            "linecolor": "#EBF0F8",
            "ticks": ""
           },
           "bgcolor": "white",
           "radialaxis": {
            "gridcolor": "#EBF0F8",
            "linecolor": "#EBF0F8",
            "ticks": ""
           }
          },
          "scene": {
           "xaxis": {
            "backgroundcolor": "white",
            "gridcolor": "#DFE8F3",
            "gridwidth": 2,
            "linecolor": "#EBF0F8",
            "showbackground": true,
            "ticks": "",
            "zerolinecolor": "#EBF0F8"
           },
           "yaxis": {
            "backgroundcolor": "white",
            "gridcolor": "#DFE8F3",
            "gridwidth": 2,
            "linecolor": "#EBF0F8",
            "showbackground": true,
            "ticks": "",
            "zerolinecolor": "#EBF0F8"
           },
           "zaxis": {
            "backgroundcolor": "white",
            "gridcolor": "#DFE8F3",
            "gridwidth": 2,
            "linecolor": "#EBF0F8",
            "showbackground": true,
            "ticks": "",
            "zerolinecolor": "#EBF0F8"
           }
          },
          "shapedefaults": {
           "line": {
            "color": "#2a3f5f"
           }
          },
          "ternary": {
           "aaxis": {
            "gridcolor": "#DFE8F3",
            "linecolor": "#A2B1C6",
            "ticks": ""
           },
           "baxis": {
            "gridcolor": "#DFE8F3",
            "linecolor": "#A2B1C6",
            "ticks": ""
           },
           "bgcolor": "white",
           "caxis": {
            "gridcolor": "#DFE8F3",
            "linecolor": "#A2B1C6",
            "ticks": ""
           }
          },
          "title": {
           "x": 0.05
          },
          "xaxis": {
           "automargin": true,
           "gridcolor": "#EBF0F8",
           "linecolor": "#EBF0F8",
           "ticks": "",
           "title": {
            "standoff": 15
           },
           "zerolinecolor": "#EBF0F8",
           "zerolinewidth": 2
          },
          "yaxis": {
           "automargin": true,
           "gridcolor": "#EBF0F8",
           "linecolor": "#EBF0F8",
           "ticks": "",
           "title": {
            "standoff": 15
           },
           "zerolinecolor": "#EBF0F8",
           "zerolinewidth": 2
          }
         }
        },
        "title": {
         "text": "actual_price"
        },
        "xaxis": {
         "anchor": "y",
         "categoryorder": "category descending",
         "domain": [
          0,
          1
         ],
         "title": {
          "text": "actual_price"
         }
        },
        "yaxis": {
         "anchor": "x",
         "domain": [
          0,
          1
         ],
         "title": {
          "text": "URL"
         }
        }
       }
      }
     },
     "metadata": {},
     "output_type": "display_data"
    }
   ],
   "source": [
    "fig = px.histogram(df, x='actual_price', template='plotly_white', title='actual_price')\n",
    "fig.update_xaxes(categoryorder='category descending', title='actual_price').update_yaxes(title='URL')\n",
    "fig.show()"
   ]
  },
  {
   "cell_type": "code",
   "execution_count": 583,
   "metadata": {},
   "outputs": [
    {
     "data": {
      "application/vnd.plotly.v1+json": {
       "config": {
        "plotlyServerURL": "https://plot.ly"
       },
       "data": [
        {
         "alignmentgroup": "True",
         "hovertemplate": "actual_price=%{x}<br>image=%{y}<extra></extra>",
         "legendgroup": "",
         "marker": {
          "color": "#636efa",
          "pattern": {
           "shape": ""
          }
         },
         "name": "",
         "offsetgroup": "",
         "orientation": "v",
         "showlegend": false,
         "textposition": "auto",
         "type": "bar",
         "x": [
          "â?58,990",
          "â?75,990",
          "â?61,990",
          "â?68,990",
          "â?67,790",
          "â?70,990",
          "â?49,990",
          "â?67,990",
          "â?58,190",
          "â?73,990"
         ],
         "xaxis": "x",
         "y": [
          "https://m.media-amazon.com/images/I/31UISB90sYL._AC_UL320_.jpg",
          "https://m.media-amazon.com/images/I/51JFb7FctDL._AC_UL320_.jpg",
          "https://m.media-amazon.com/images/I/51JFb7FctDL._AC_UL320_.jpg",
          "https://m.media-amazon.com/images/I/51JFb7FctDL._AC_UL320_.jpg",
          "https://m.media-amazon.com/images/I/41lrtqXPiWL._AC_UL320_.jpg",
          "https://m.media-amazon.com/images/I/41TuyxwZ9mL._AC_UL320_.jpg",
          "https://m.media-amazon.com/images/I/31IXlxIPsOL._AC_UL320_.jpg",
          "https://m.media-amazon.com/images/I/31IXlxIPsOL._AC_UL320_.jpg",
          "https://m.media-amazon.com/images/I/51sTXvsanQL._AC_UL320_.jpg",
          "https://m.media-amazon.com/images/I/51WQ3nWF0vL._AC_UL320_.jpg"
         ],
         "yaxis": "y"
        }
       ],
       "layout": {
        "barmode": "relative",
        "legend": {
         "tracegroupgap": 0
        },
        "template": {
         "data": {
          "bar": [
           {
            "error_x": {
             "color": "#2a3f5f"
            },
            "error_y": {
             "color": "#2a3f5f"
            },
            "marker": {
             "line": {
              "color": "white",
              "width": 0.5
             },
             "pattern": {
              "fillmode": "overlay",
              "size": 10,
              "solidity": 0.2
             }
            },
            "type": "bar"
           }
          ],
          "barpolar": [
           {
            "marker": {
             "line": {
              "color": "white",
              "width": 0.5
             },
             "pattern": {
              "fillmode": "overlay",
              "size": 10,
              "solidity": 0.2
             }
            },
            "type": "barpolar"
           }
          ],
          "carpet": [
           {
            "aaxis": {
             "endlinecolor": "#2a3f5f",
             "gridcolor": "#C8D4E3",
             "linecolor": "#C8D4E3",
             "minorgridcolor": "#C8D4E3",
             "startlinecolor": "#2a3f5f"
            },
            "baxis": {
             "endlinecolor": "#2a3f5f",
             "gridcolor": "#C8D4E3",
             "linecolor": "#C8D4E3",
             "minorgridcolor": "#C8D4E3",
             "startlinecolor": "#2a3f5f"
            },
            "type": "carpet"
           }
          ],
          "choropleth": [
           {
            "colorbar": {
             "outlinewidth": 0,
             "ticks": ""
            },
            "type": "choropleth"
           }
          ],
          "contour": [
           {
            "colorbar": {
             "outlinewidth": 0,
             "ticks": ""
            },
            "colorscale": [
             [
              0,
              "#0d0887"
             ],
             [
              0.1111111111111111,
              "#46039f"
             ],
             [
              0.2222222222222222,
              "#7201a8"
             ],
             [
              0.3333333333333333,
              "#9c179e"
             ],
             [
              0.4444444444444444,
              "#bd3786"
             ],
             [
              0.5555555555555556,
              "#d8576b"
             ],
             [
              0.6666666666666666,
              "#ed7953"
             ],
             [
              0.7777777777777778,
              "#fb9f3a"
             ],
             [
              0.8888888888888888,
              "#fdca26"
             ],
             [
              1,
              "#f0f921"
             ]
            ],
            "type": "contour"
           }
          ],
          "contourcarpet": [
           {
            "colorbar": {
             "outlinewidth": 0,
             "ticks": ""
            },
            "type": "contourcarpet"
           }
          ],
          "heatmap": [
           {
            "colorbar": {
             "outlinewidth": 0,
             "ticks": ""
            },
            "colorscale": [
             [
              0,
              "#0d0887"
             ],
             [
              0.1111111111111111,
              "#46039f"
             ],
             [
              0.2222222222222222,
              "#7201a8"
             ],
             [
              0.3333333333333333,
              "#9c179e"
             ],
             [
              0.4444444444444444,
              "#bd3786"
             ],
             [
              0.5555555555555556,
              "#d8576b"
             ],
             [
              0.6666666666666666,
              "#ed7953"
             ],
             [
              0.7777777777777778,
              "#fb9f3a"
             ],
             [
              0.8888888888888888,
              "#fdca26"
             ],
             [
              1,
              "#f0f921"
             ]
            ],
            "type": "heatmap"
           }
          ],
          "heatmapgl": [
           {
            "colorbar": {
             "outlinewidth": 0,
             "ticks": ""
            },
            "colorscale": [
             [
              0,
              "#0d0887"
             ],
             [
              0.1111111111111111,
              "#46039f"
             ],
             [
              0.2222222222222222,
              "#7201a8"
             ],
             [
              0.3333333333333333,
              "#9c179e"
             ],
             [
              0.4444444444444444,
              "#bd3786"
             ],
             [
              0.5555555555555556,
              "#d8576b"
             ],
             [
              0.6666666666666666,
              "#ed7953"
             ],
             [
              0.7777777777777778,
              "#fb9f3a"
             ],
             [
              0.8888888888888888,
              "#fdca26"
             ],
             [
              1,
              "#f0f921"
             ]
            ],
            "type": "heatmapgl"
           }
          ],
          "histogram": [
           {
            "marker": {
             "pattern": {
              "fillmode": "overlay",
              "size": 10,
              "solidity": 0.2
             }
            },
            "type": "histogram"
           }
          ],
          "histogram2d": [
           {
            "colorbar": {
             "outlinewidth": 0,
             "ticks": ""
            },
            "colorscale": [
             [
              0,
              "#0d0887"
             ],
             [
              0.1111111111111111,
              "#46039f"
             ],
             [
              0.2222222222222222,
              "#7201a8"
             ],
             [
              0.3333333333333333,
              "#9c179e"
             ],
             [
              0.4444444444444444,
              "#bd3786"
             ],
             [
              0.5555555555555556,
              "#d8576b"
             ],
             [
              0.6666666666666666,
              "#ed7953"
             ],
             [
              0.7777777777777778,
              "#fb9f3a"
             ],
             [
              0.8888888888888888,
              "#fdca26"
             ],
             [
              1,
              "#f0f921"
             ]
            ],
            "type": "histogram2d"
           }
          ],
          "histogram2dcontour": [
           {
            "colorbar": {
             "outlinewidth": 0,
             "ticks": ""
            },
            "colorscale": [
             [
              0,
              "#0d0887"
             ],
             [
              0.1111111111111111,
              "#46039f"
             ],
             [
              0.2222222222222222,
              "#7201a8"
             ],
             [
              0.3333333333333333,
              "#9c179e"
             ],
             [
              0.4444444444444444,
              "#bd3786"
             ],
             [
              0.5555555555555556,
              "#d8576b"
             ],
             [
              0.6666666666666666,
              "#ed7953"
             ],
             [
              0.7777777777777778,
              "#fb9f3a"
             ],
             [
              0.8888888888888888,
              "#fdca26"
             ],
             [
              1,
              "#f0f921"
             ]
            ],
            "type": "histogram2dcontour"
           }
          ],
          "mesh3d": [
           {
            "colorbar": {
             "outlinewidth": 0,
             "ticks": ""
            },
            "type": "mesh3d"
           }
          ],
          "parcoords": [
           {
            "line": {
             "colorbar": {
              "outlinewidth": 0,
              "ticks": ""
             }
            },
            "type": "parcoords"
           }
          ],
          "pie": [
           {
            "automargin": true,
            "type": "pie"
           }
          ],
          "scatter": [
           {
            "fillpattern": {
             "fillmode": "overlay",
             "size": 10,
             "solidity": 0.2
            },
            "type": "scatter"
           }
          ],
          "scatter3d": [
           {
            "line": {
             "colorbar": {
              "outlinewidth": 0,
              "ticks": ""
             }
            },
            "marker": {
             "colorbar": {
              "outlinewidth": 0,
              "ticks": ""
             }
            },
            "type": "scatter3d"
           }
          ],
          "scattercarpet": [
           {
            "marker": {
             "colorbar": {
              "outlinewidth": 0,
              "ticks": ""
             }
            },
            "type": "scattercarpet"
           }
          ],
          "scattergeo": [
           {
            "marker": {
             "colorbar": {
              "outlinewidth": 0,
              "ticks": ""
             }
            },
            "type": "scattergeo"
           }
          ],
          "scattergl": [
           {
            "marker": {
             "colorbar": {
              "outlinewidth": 0,
              "ticks": ""
             }
            },
            "type": "scattergl"
           }
          ],
          "scattermapbox": [
           {
            "marker": {
             "colorbar": {
              "outlinewidth": 0,
              "ticks": ""
             }
            },
            "type": "scattermapbox"
           }
          ],
          "scatterpolar": [
           {
            "marker": {
             "colorbar": {
              "outlinewidth": 0,
              "ticks": ""
             }
            },
            "type": "scatterpolar"
           }
          ],
          "scatterpolargl": [
           {
            "marker": {
             "colorbar": {
              "outlinewidth": 0,
              "ticks": ""
             }
            },
            "type": "scatterpolargl"
           }
          ],
          "scatterternary": [
           {
            "marker": {
             "colorbar": {
              "outlinewidth": 0,
              "ticks": ""
             }
            },
            "type": "scatterternary"
           }
          ],
          "surface": [
           {
            "colorbar": {
             "outlinewidth": 0,
             "ticks": ""
            },
            "colorscale": [
             [
              0,
              "#0d0887"
             ],
             [
              0.1111111111111111,
              "#46039f"
             ],
             [
              0.2222222222222222,
              "#7201a8"
             ],
             [
              0.3333333333333333,
              "#9c179e"
             ],
             [
              0.4444444444444444,
              "#bd3786"
             ],
             [
              0.5555555555555556,
              "#d8576b"
             ],
             [
              0.6666666666666666,
              "#ed7953"
             ],
             [
              0.7777777777777778,
              "#fb9f3a"
             ],
             [
              0.8888888888888888,
              "#fdca26"
             ],
             [
              1,
              "#f0f921"
             ]
            ],
            "type": "surface"
           }
          ],
          "table": [
           {
            "cells": {
             "fill": {
              "color": "#EBF0F8"
             },
             "line": {
              "color": "white"
             }
            },
            "header": {
             "fill": {
              "color": "#C8D4E3"
             },
             "line": {
              "color": "white"
             }
            },
            "type": "table"
           }
          ]
         },
         "layout": {
          "annotationdefaults": {
           "arrowcolor": "#2a3f5f",
           "arrowhead": 0,
           "arrowwidth": 1
          },
          "autotypenumbers": "strict",
          "coloraxis": {
           "colorbar": {
            "outlinewidth": 0,
            "ticks": ""
           }
          },
          "colorscale": {
           "diverging": [
            [
             0,
             "#8e0152"
            ],
            [
             0.1,
             "#c51b7d"
            ],
            [
             0.2,
             "#de77ae"
            ],
            [
             0.3,
             "#f1b6da"
            ],
            [
             0.4,
             "#fde0ef"
            ],
            [
             0.5,
             "#f7f7f7"
            ],
            [
             0.6,
             "#e6f5d0"
            ],
            [
             0.7,
             "#b8e186"
            ],
            [
             0.8,
             "#7fbc41"
            ],
            [
             0.9,
             "#4d9221"
            ],
            [
             1,
             "#276419"
            ]
           ],
           "sequential": [
            [
             0,
             "#0d0887"
            ],
            [
             0.1111111111111111,
             "#46039f"
            ],
            [
             0.2222222222222222,
             "#7201a8"
            ],
            [
             0.3333333333333333,
             "#9c179e"
            ],
            [
             0.4444444444444444,
             "#bd3786"
            ],
            [
             0.5555555555555556,
             "#d8576b"
            ],
            [
             0.6666666666666666,
             "#ed7953"
            ],
            [
             0.7777777777777778,
             "#fb9f3a"
            ],
            [
             0.8888888888888888,
             "#fdca26"
            ],
            [
             1,
             "#f0f921"
            ]
           ],
           "sequentialminus": [
            [
             0,
             "#0d0887"
            ],
            [
             0.1111111111111111,
             "#46039f"
            ],
            [
             0.2222222222222222,
             "#7201a8"
            ],
            [
             0.3333333333333333,
             "#9c179e"
            ],
            [
             0.4444444444444444,
             "#bd3786"
            ],
            [
             0.5555555555555556,
             "#d8576b"
            ],
            [
             0.6666666666666666,
             "#ed7953"
            ],
            [
             0.7777777777777778,
             "#fb9f3a"
            ],
            [
             0.8888888888888888,
             "#fdca26"
            ],
            [
             1,
             "#f0f921"
            ]
           ]
          },
          "colorway": [
           "#636efa",
           "#EF553B",
           "#00cc96",
           "#ab63fa",
           "#FFA15A",
           "#19d3f3",
           "#FF6692",
           "#B6E880",
           "#FF97FF",
           "#FECB52"
          ],
          "font": {
           "color": "#2a3f5f"
          },
          "geo": {
           "bgcolor": "white",
           "lakecolor": "white",
           "landcolor": "white",
           "showlakes": true,
           "showland": true,
           "subunitcolor": "#C8D4E3"
          },
          "hoverlabel": {
           "align": "left"
          },
          "hovermode": "closest",
          "mapbox": {
           "style": "light"
          },
          "paper_bgcolor": "white",
          "plot_bgcolor": "white",
          "polar": {
           "angularaxis": {
            "gridcolor": "#EBF0F8",
            "linecolor": "#EBF0F8",
            "ticks": ""
           },
           "bgcolor": "white",
           "radialaxis": {
            "gridcolor": "#EBF0F8",
            "linecolor": "#EBF0F8",
            "ticks": ""
           }
          },
          "scene": {
           "xaxis": {
            "backgroundcolor": "white",
            "gridcolor": "#DFE8F3",
            "gridwidth": 2,
            "linecolor": "#EBF0F8",
            "showbackground": true,
            "ticks": "",
            "zerolinecolor": "#EBF0F8"
           },
           "yaxis": {
            "backgroundcolor": "white",
            "gridcolor": "#DFE8F3",
            "gridwidth": 2,
            "linecolor": "#EBF0F8",
            "showbackground": true,
            "ticks": "",
            "zerolinecolor": "#EBF0F8"
           },
           "zaxis": {
            "backgroundcolor": "white",
            "gridcolor": "#DFE8F3",
            "gridwidth": 2,
            "linecolor": "#EBF0F8",
            "showbackground": true,
            "ticks": "",
            "zerolinecolor": "#EBF0F8"
           }
          },
          "shapedefaults": {
           "line": {
            "color": "#2a3f5f"
           }
          },
          "ternary": {
           "aaxis": {
            "gridcolor": "#DFE8F3",
            "linecolor": "#A2B1C6",
            "ticks": ""
           },
           "baxis": {
            "gridcolor": "#DFE8F3",
            "linecolor": "#A2B1C6",
            "ticks": ""
           },
           "bgcolor": "white",
           "caxis": {
            "gridcolor": "#DFE8F3",
            "linecolor": "#A2B1C6",
            "ticks": ""
           }
          },
          "title": {
           "x": 0.05
          },
          "xaxis": {
           "automargin": true,
           "gridcolor": "#EBF0F8",
           "linecolor": "#EBF0F8",
           "ticks": "",
           "title": {
            "standoff": 15
           },
           "zerolinecolor": "#EBF0F8",
           "zerolinewidth": 2
          },
          "yaxis": {
           "automargin": true,
           "gridcolor": "#EBF0F8",
           "linecolor": "#EBF0F8",
           "ticks": "",
           "title": {
            "standoff": 15
           },
           "zerolinecolor": "#EBF0F8",
           "zerolinewidth": 2
          }
         }
        },
        "title": {
         "text": "label"
        },
        "xaxis": {
         "anchor": "y",
         "domain": [
          0,
          1
         ],
         "title": {
          "text": "actual_price"
         }
        },
        "yaxis": {
         "anchor": "x",
         "domain": [
          0,
          1
         ],
         "title": {
          "text": "image"
         }
        }
       }
      }
     },
     "metadata": {},
     "output_type": "display_data"
    }
   ],
   "source": [
    "fig = px.bar(df[:10], x='actual_price', y='image', title='label', template='plotly_white', labels={'ngram': 'Bigram', 'count': 'Count'})\n",
    "fig.show()"
   ]
  },
  {
   "cell_type": "code",
   "execution_count": 584,
   "metadata": {},
   "outputs": [
    {
     "data": {
      "application/vnd.plotly.v1+json": {
       "config": {
        "plotlyServerURL": "https://plot.ly"
       },
       "data": [
        {
         "alignmentgroup": "True",
         "hovertemplate": "name=%{x}<br>image=%{y}<extra></extra>",
         "legendgroup": "",
         "marker": {
          "color": "#636efa",
          "pattern": {
           "shape": ""
          }
         },
         "name": "",
         "offsetgroup": "",
         "orientation": "v",
         "showlegend": false,
         "textposition": "auto",
         "type": "bar",
         "x": [
          "Lloyd 1.5 Ton 3 Star Inverter Split Ac (5 In 1 Convertible, Copper, Anti-Viral + Pm 2.5 Filter, 2023 Model, White, Gls18I3...",
          "LG 1.5 Ton 5 Star AI DUAL Inverter Split AC (Copper, Super Convertible 6-in-1 Cooling, HD Filter with Anti-Virus Protectio...",
          "LG 1 Ton 4 Star Ai Dual Inverter Split Ac (Copper, Super Convertible 6-In-1 Cooling, Hd Filter With Anti Virus Protection,...",
          "LG 1.5 Ton 3 Star AI DUAL Inverter Split AC (Copper, Super Convertible 6-in-1 Cooling, HD Filter with Anti-Virus Protectio...",
          "Carrier 1.5 Ton 3 Star Inverter Split AC (Copper,ESTER Dxi, 4-in-1 Flexicool Inverter, 2022 Model,R32,White)",
          "Voltas 1.4 Ton 3 Star Inverter Split AC(Copper, Adjustable Cooling, Anti-dust Filter, 2023 Model, 173V Vectra Platina, White)",
          "Lloyd 1.0 Ton 3 Star Inverter Split Ac (5 In 1 Convertible, Copper, Anti-Viral + Pm 2.5 Filter, 2023 Model, White With Chr...",
          "Lloyd 1.5 Ton 5 Star Inverter Split Ac (5 In 1 Convertible, Copper, Anti-Viral + Pm 2.5 Filter, 2023 Model, White With Chr...",
          "Carrier 1 Ton 3 Star AI Flexicool Inverter Split AC (Copper, Convertible 4-in-1 Cooling,Dual Filtration with HD & PM 2.5 F...",
          "Voltas 1.5 Ton, 5 Star, Inverter Split AC(Copper, 4-in-1 Adjustable Mode, Anti-dust Filter, 2023 Model, 185V DAZJ, White)"
         ],
         "xaxis": "x",
         "y": [
          "https://m.media-amazon.com/images/I/31UISB90sYL._AC_UL320_.jpg",
          "https://m.media-amazon.com/images/I/51JFb7FctDL._AC_UL320_.jpg",
          "https://m.media-amazon.com/images/I/51JFb7FctDL._AC_UL320_.jpg",
          "https://m.media-amazon.com/images/I/51JFb7FctDL._AC_UL320_.jpg",
          "https://m.media-amazon.com/images/I/41lrtqXPiWL._AC_UL320_.jpg",
          "https://m.media-amazon.com/images/I/41TuyxwZ9mL._AC_UL320_.jpg",
          "https://m.media-amazon.com/images/I/31IXlxIPsOL._AC_UL320_.jpg",
          "https://m.media-amazon.com/images/I/31IXlxIPsOL._AC_UL320_.jpg",
          "https://m.media-amazon.com/images/I/51sTXvsanQL._AC_UL320_.jpg",
          "https://m.media-amazon.com/images/I/51WQ3nWF0vL._AC_UL320_.jpg"
         ],
         "yaxis": "y"
        }
       ],
       "layout": {
        "barmode": "relative",
        "legend": {
         "tracegroupgap": 0
        },
        "template": {
         "data": {
          "bar": [
           {
            "error_x": {
             "color": "#2a3f5f"
            },
            "error_y": {
             "color": "#2a3f5f"
            },
            "marker": {
             "line": {
              "color": "white",
              "width": 0.5
             },
             "pattern": {
              "fillmode": "overlay",
              "size": 10,
              "solidity": 0.2
             }
            },
            "type": "bar"
           }
          ],
          "barpolar": [
           {
            "marker": {
             "line": {
              "color": "white",
              "width": 0.5
             },
             "pattern": {
              "fillmode": "overlay",
              "size": 10,
              "solidity": 0.2
             }
            },
            "type": "barpolar"
           }
          ],
          "carpet": [
           {
            "aaxis": {
             "endlinecolor": "#2a3f5f",
             "gridcolor": "#C8D4E3",
             "linecolor": "#C8D4E3",
             "minorgridcolor": "#C8D4E3",
             "startlinecolor": "#2a3f5f"
            },
            "baxis": {
             "endlinecolor": "#2a3f5f",
             "gridcolor": "#C8D4E3",
             "linecolor": "#C8D4E3",
             "minorgridcolor": "#C8D4E3",
             "startlinecolor": "#2a3f5f"
            },
            "type": "carpet"
           }
          ],
          "choropleth": [
           {
            "colorbar": {
             "outlinewidth": 0,
             "ticks": ""
            },
            "type": "choropleth"
           }
          ],
          "contour": [
           {
            "colorbar": {
             "outlinewidth": 0,
             "ticks": ""
            },
            "colorscale": [
             [
              0,
              "#0d0887"
             ],
             [
              0.1111111111111111,
              "#46039f"
             ],
             [
              0.2222222222222222,
              "#7201a8"
             ],
             [
              0.3333333333333333,
              "#9c179e"
             ],
             [
              0.4444444444444444,
              "#bd3786"
             ],
             [
              0.5555555555555556,
              "#d8576b"
             ],
             [
              0.6666666666666666,
              "#ed7953"
             ],
             [
              0.7777777777777778,
              "#fb9f3a"
             ],
             [
              0.8888888888888888,
              "#fdca26"
             ],
             [
              1,
              "#f0f921"
             ]
            ],
            "type": "contour"
           }
          ],
          "contourcarpet": [
           {
            "colorbar": {
             "outlinewidth": 0,
             "ticks": ""
            },
            "type": "contourcarpet"
           }
          ],
          "heatmap": [
           {
            "colorbar": {
             "outlinewidth": 0,
             "ticks": ""
            },
            "colorscale": [
             [
              0,
              "#0d0887"
             ],
             [
              0.1111111111111111,
              "#46039f"
             ],
             [
              0.2222222222222222,
              "#7201a8"
             ],
             [
              0.3333333333333333,
              "#9c179e"
             ],
             [
              0.4444444444444444,
              "#bd3786"
             ],
             [
              0.5555555555555556,
              "#d8576b"
             ],
             [
              0.6666666666666666,
              "#ed7953"
             ],
             [
              0.7777777777777778,
              "#fb9f3a"
             ],
             [
              0.8888888888888888,
              "#fdca26"
             ],
             [
              1,
              "#f0f921"
             ]
            ],
            "type": "heatmap"
           }
          ],
          "heatmapgl": [
           {
            "colorbar": {
             "outlinewidth": 0,
             "ticks": ""
            },
            "colorscale": [
             [
              0,
              "#0d0887"
             ],
             [
              0.1111111111111111,
              "#46039f"
             ],
             [
              0.2222222222222222,
              "#7201a8"
             ],
             [
              0.3333333333333333,
              "#9c179e"
             ],
             [
              0.4444444444444444,
              "#bd3786"
             ],
             [
              0.5555555555555556,
              "#d8576b"
             ],
             [
              0.6666666666666666,
              "#ed7953"
             ],
             [
              0.7777777777777778,
              "#fb9f3a"
             ],
             [
              0.8888888888888888,
              "#fdca26"
             ],
             [
              1,
              "#f0f921"
             ]
            ],
            "type": "heatmapgl"
           }
          ],
          "histogram": [
           {
            "marker": {
             "pattern": {
              "fillmode": "overlay",
              "size": 10,
              "solidity": 0.2
             }
            },
            "type": "histogram"
           }
          ],
          "histogram2d": [
           {
            "colorbar": {
             "outlinewidth": 0,
             "ticks": ""
            },
            "colorscale": [
             [
              0,
              "#0d0887"
             ],
             [
              0.1111111111111111,
              "#46039f"
             ],
             [
              0.2222222222222222,
              "#7201a8"
             ],
             [
              0.3333333333333333,
              "#9c179e"
             ],
             [
              0.4444444444444444,
              "#bd3786"
             ],
             [
              0.5555555555555556,
              "#d8576b"
             ],
             [
              0.6666666666666666,
              "#ed7953"
             ],
             [
              0.7777777777777778,
              "#fb9f3a"
             ],
             [
              0.8888888888888888,
              "#fdca26"
             ],
             [
              1,
              "#f0f921"
             ]
            ],
            "type": "histogram2d"
           }
          ],
          "histogram2dcontour": [
           {
            "colorbar": {
             "outlinewidth": 0,
             "ticks": ""
            },
            "colorscale": [
             [
              0,
              "#0d0887"
             ],
             [
              0.1111111111111111,
              "#46039f"
             ],
             [
              0.2222222222222222,
              "#7201a8"
             ],
             [
              0.3333333333333333,
              "#9c179e"
             ],
             [
              0.4444444444444444,
              "#bd3786"
             ],
             [
              0.5555555555555556,
              "#d8576b"
             ],
             [
              0.6666666666666666,
              "#ed7953"
             ],
             [
              0.7777777777777778,
              "#fb9f3a"
             ],
             [
              0.8888888888888888,
              "#fdca26"
             ],
             [
              1,
              "#f0f921"
             ]
            ],
            "type": "histogram2dcontour"
           }
          ],
          "mesh3d": [
           {
            "colorbar": {
             "outlinewidth": 0,
             "ticks": ""
            },
            "type": "mesh3d"
           }
          ],
          "parcoords": [
           {
            "line": {
             "colorbar": {
              "outlinewidth": 0,
              "ticks": ""
             }
            },
            "type": "parcoords"
           }
          ],
          "pie": [
           {
            "automargin": true,
            "type": "pie"
           }
          ],
          "scatter": [
           {
            "fillpattern": {
             "fillmode": "overlay",
             "size": 10,
             "solidity": 0.2
            },
            "type": "scatter"
           }
          ],
          "scatter3d": [
           {
            "line": {
             "colorbar": {
              "outlinewidth": 0,
              "ticks": ""
             }
            },
            "marker": {
             "colorbar": {
              "outlinewidth": 0,
              "ticks": ""
             }
            },
            "type": "scatter3d"
           }
          ],
          "scattercarpet": [
           {
            "marker": {
             "colorbar": {
              "outlinewidth": 0,
              "ticks": ""
             }
            },
            "type": "scattercarpet"
           }
          ],
          "scattergeo": [
           {
            "marker": {
             "colorbar": {
              "outlinewidth": 0,
              "ticks": ""
             }
            },
            "type": "scattergeo"
           }
          ],
          "scattergl": [
           {
            "marker": {
             "colorbar": {
              "outlinewidth": 0,
              "ticks": ""
             }
            },
            "type": "scattergl"
           }
          ],
          "scattermapbox": [
           {
            "marker": {
             "colorbar": {
              "outlinewidth": 0,
              "ticks": ""
             }
            },
            "type": "scattermapbox"
           }
          ],
          "scatterpolar": [
           {
            "marker": {
             "colorbar": {
              "outlinewidth": 0,
              "ticks": ""
             }
            },
            "type": "scatterpolar"
           }
          ],
          "scatterpolargl": [
           {
            "marker": {
             "colorbar": {
              "outlinewidth": 0,
              "ticks": ""
             }
            },
            "type": "scatterpolargl"
           }
          ],
          "scatterternary": [
           {
            "marker": {
             "colorbar": {
              "outlinewidth": 0,
              "ticks": ""
             }
            },
            "type": "scatterternary"
           }
          ],
          "surface": [
           {
            "colorbar": {
             "outlinewidth": 0,
             "ticks": ""
            },
            "colorscale": [
             [
              0,
              "#0d0887"
             ],
             [
              0.1111111111111111,
              "#46039f"
             ],
             [
              0.2222222222222222,
              "#7201a8"
             ],
             [
              0.3333333333333333,
              "#9c179e"
             ],
             [
              0.4444444444444444,
              "#bd3786"
             ],
             [
              0.5555555555555556,
              "#d8576b"
             ],
             [
              0.6666666666666666,
              "#ed7953"
             ],
             [
              0.7777777777777778,
              "#fb9f3a"
             ],
             [
              0.8888888888888888,
              "#fdca26"
             ],
             [
              1,
              "#f0f921"
             ]
            ],
            "type": "surface"
           }
          ],
          "table": [
           {
            "cells": {
             "fill": {
              "color": "#EBF0F8"
             },
             "line": {
              "color": "white"
             }
            },
            "header": {
             "fill": {
              "color": "#C8D4E3"
             },
             "line": {
              "color": "white"
             }
            },
            "type": "table"
           }
          ]
         },
         "layout": {
          "annotationdefaults": {
           "arrowcolor": "#2a3f5f",
           "arrowhead": 0,
           "arrowwidth": 1
          },
          "autotypenumbers": "strict",
          "coloraxis": {
           "colorbar": {
            "outlinewidth": 0,
            "ticks": ""
           }
          },
          "colorscale": {
           "diverging": [
            [
             0,
             "#8e0152"
            ],
            [
             0.1,
             "#c51b7d"
            ],
            [
             0.2,
             "#de77ae"
            ],
            [
             0.3,
             "#f1b6da"
            ],
            [
             0.4,
             "#fde0ef"
            ],
            [
             0.5,
             "#f7f7f7"
            ],
            [
             0.6,
             "#e6f5d0"
            ],
            [
             0.7,
             "#b8e186"
            ],
            [
             0.8,
             "#7fbc41"
            ],
            [
             0.9,
             "#4d9221"
            ],
            [
             1,
             "#276419"
            ]
           ],
           "sequential": [
            [
             0,
             "#0d0887"
            ],
            [
             0.1111111111111111,
             "#46039f"
            ],
            [
             0.2222222222222222,
             "#7201a8"
            ],
            [
             0.3333333333333333,
             "#9c179e"
            ],
            [
             0.4444444444444444,
             "#bd3786"
            ],
            [
             0.5555555555555556,
             "#d8576b"
            ],
            [
             0.6666666666666666,
             "#ed7953"
            ],
            [
             0.7777777777777778,
             "#fb9f3a"
            ],
            [
             0.8888888888888888,
             "#fdca26"
            ],
            [
             1,
             "#f0f921"
            ]
           ],
           "sequentialminus": [
            [
             0,
             "#0d0887"
            ],
            [
             0.1111111111111111,
             "#46039f"
            ],
            [
             0.2222222222222222,
             "#7201a8"
            ],
            [
             0.3333333333333333,
             "#9c179e"
            ],
            [
             0.4444444444444444,
             "#bd3786"
            ],
            [
             0.5555555555555556,
             "#d8576b"
            ],
            [
             0.6666666666666666,
             "#ed7953"
            ],
            [
             0.7777777777777778,
             "#fb9f3a"
            ],
            [
             0.8888888888888888,
             "#fdca26"
            ],
            [
             1,
             "#f0f921"
            ]
           ]
          },
          "colorway": [
           "#636efa",
           "#EF553B",
           "#00cc96",
           "#ab63fa",
           "#FFA15A",
           "#19d3f3",
           "#FF6692",
           "#B6E880",
           "#FF97FF",
           "#FECB52"
          ],
          "font": {
           "color": "#2a3f5f"
          },
          "geo": {
           "bgcolor": "white",
           "lakecolor": "white",
           "landcolor": "white",
           "showlakes": true,
           "showland": true,
           "subunitcolor": "#C8D4E3"
          },
          "hoverlabel": {
           "align": "left"
          },
          "hovermode": "closest",
          "mapbox": {
           "style": "light"
          },
          "paper_bgcolor": "white",
          "plot_bgcolor": "white",
          "polar": {
           "angularaxis": {
            "gridcolor": "#EBF0F8",
            "linecolor": "#EBF0F8",
            "ticks": ""
           },
           "bgcolor": "white",
           "radialaxis": {
            "gridcolor": "#EBF0F8",
            "linecolor": "#EBF0F8",
            "ticks": ""
           }
          },
          "scene": {
           "xaxis": {
            "backgroundcolor": "white",
            "gridcolor": "#DFE8F3",
            "gridwidth": 2,
            "linecolor": "#EBF0F8",
            "showbackground": true,
            "ticks": "",
            "zerolinecolor": "#EBF0F8"
           },
           "yaxis": {
            "backgroundcolor": "white",
            "gridcolor": "#DFE8F3",
            "gridwidth": 2,
            "linecolor": "#EBF0F8",
            "showbackground": true,
            "ticks": "",
            "zerolinecolor": "#EBF0F8"
           },
           "zaxis": {
            "backgroundcolor": "white",
            "gridcolor": "#DFE8F3",
            "gridwidth": 2,
            "linecolor": "#EBF0F8",
            "showbackground": true,
            "ticks": "",
            "zerolinecolor": "#EBF0F8"
           }
          },
          "shapedefaults": {
           "line": {
            "color": "#2a3f5f"
           }
          },
          "ternary": {
           "aaxis": {
            "gridcolor": "#DFE8F3",
            "linecolor": "#A2B1C6",
            "ticks": ""
           },
           "baxis": {
            "gridcolor": "#DFE8F3",
            "linecolor": "#A2B1C6",
            "ticks": ""
           },
           "bgcolor": "white",
           "caxis": {
            "gridcolor": "#DFE8F3",
            "linecolor": "#A2B1C6",
            "ticks": ""
           }
          },
          "title": {
           "x": 0.05
          },
          "xaxis": {
           "automargin": true,
           "gridcolor": "#EBF0F8",
           "linecolor": "#EBF0F8",
           "ticks": "",
           "title": {
            "standoff": 15
           },
           "zerolinecolor": "#EBF0F8",
           "zerolinewidth": 2
          },
          "yaxis": {
           "automargin": true,
           "gridcolor": "#EBF0F8",
           "linecolor": "#EBF0F8",
           "ticks": "",
           "title": {
            "standoff": 15
           },
           "zerolinecolor": "#EBF0F8",
           "zerolinewidth": 2
          }
         }
        },
        "title": {
         "text": "label"
        },
        "xaxis": {
         "anchor": "y",
         "domain": [
          0,
          1
         ],
         "title": {
          "text": "name"
         }
        },
        "yaxis": {
         "anchor": "x",
         "domain": [
          0,
          1
         ],
         "title": {
          "text": "image"
         }
        }
       }
      }
     },
     "metadata": {},
     "output_type": "display_data"
    }
   ],
   "source": [
    "fig = px.bar(df[:10], x='name', y='image', title='label', template='plotly_white', labels={'ngram': 'Bigram', 'count': 'Count'})\n",
    "fig.show()"
   ]
  },
  {
   "cell_type": "code",
   "execution_count": 585,
   "metadata": {},
   "outputs": [
    {
     "data": {
      "application/vnd.plotly.v1+json": {
       "config": {
        "plotlyServerURL": "https://plot.ly"
       },
       "data": [
        {
         "alignmentgroup": "True",
         "hovertemplate": "sub_category=%{x}<br>image=%{y}<extra></extra>",
         "legendgroup": "",
         "marker": {
          "color": "#636efa",
          "pattern": {
           "shape": ""
          }
         },
         "name": "",
         "offsetgroup": "",
         "orientation": "v",
         "showlegend": false,
         "textposition": "auto",
         "type": "bar",
         "x": [
          "Air Conditioners",
          "Air Conditioners",
          "Air Conditioners",
          "Air Conditioners",
          "Air Conditioners",
          "Air Conditioners",
          "Air Conditioners",
          "Air Conditioners",
          "Air Conditioners",
          "Air Conditioners"
         ],
         "xaxis": "x",
         "y": [
          "https://m.media-amazon.com/images/I/31UISB90sYL._AC_UL320_.jpg",
          "https://m.media-amazon.com/images/I/51JFb7FctDL._AC_UL320_.jpg",
          "https://m.media-amazon.com/images/I/51JFb7FctDL._AC_UL320_.jpg",
          "https://m.media-amazon.com/images/I/51JFb7FctDL._AC_UL320_.jpg",
          "https://m.media-amazon.com/images/I/41lrtqXPiWL._AC_UL320_.jpg",
          "https://m.media-amazon.com/images/I/41TuyxwZ9mL._AC_UL320_.jpg",
          "https://m.media-amazon.com/images/I/31IXlxIPsOL._AC_UL320_.jpg",
          "https://m.media-amazon.com/images/I/31IXlxIPsOL._AC_UL320_.jpg",
          "https://m.media-amazon.com/images/I/51sTXvsanQL._AC_UL320_.jpg",
          "https://m.media-amazon.com/images/I/51WQ3nWF0vL._AC_UL320_.jpg"
         ],
         "yaxis": "y"
        }
       ],
       "layout": {
        "barmode": "relative",
        "legend": {
         "tracegroupgap": 0
        },
        "template": {
         "data": {
          "bar": [
           {
            "error_x": {
             "color": "#2a3f5f"
            },
            "error_y": {
             "color": "#2a3f5f"
            },
            "marker": {
             "line": {
              "color": "white",
              "width": 0.5
             },
             "pattern": {
              "fillmode": "overlay",
              "size": 10,
              "solidity": 0.2
             }
            },
            "type": "bar"
           }
          ],
          "barpolar": [
           {
            "marker": {
             "line": {
              "color": "white",
              "width": 0.5
             },
             "pattern": {
              "fillmode": "overlay",
              "size": 10,
              "solidity": 0.2
             }
            },
            "type": "barpolar"
           }
          ],
          "carpet": [
           {
            "aaxis": {
             "endlinecolor": "#2a3f5f",
             "gridcolor": "#C8D4E3",
             "linecolor": "#C8D4E3",
             "minorgridcolor": "#C8D4E3",
             "startlinecolor": "#2a3f5f"
            },
            "baxis": {
             "endlinecolor": "#2a3f5f",
             "gridcolor": "#C8D4E3",
             "linecolor": "#C8D4E3",
             "minorgridcolor": "#C8D4E3",
             "startlinecolor": "#2a3f5f"
            },
            "type": "carpet"
           }
          ],
          "choropleth": [
           {
            "colorbar": {
             "outlinewidth": 0,
             "ticks": ""
            },
            "type": "choropleth"
           }
          ],
          "contour": [
           {
            "colorbar": {
             "outlinewidth": 0,
             "ticks": ""
            },
            "colorscale": [
             [
              0,
              "#0d0887"
             ],
             [
              0.1111111111111111,
              "#46039f"
             ],
             [
              0.2222222222222222,
              "#7201a8"
             ],
             [
              0.3333333333333333,
              "#9c179e"
             ],
             [
              0.4444444444444444,
              "#bd3786"
             ],
             [
              0.5555555555555556,
              "#d8576b"
             ],
             [
              0.6666666666666666,
              "#ed7953"
             ],
             [
              0.7777777777777778,
              "#fb9f3a"
             ],
             [
              0.8888888888888888,
              "#fdca26"
             ],
             [
              1,
              "#f0f921"
             ]
            ],
            "type": "contour"
           }
          ],
          "contourcarpet": [
           {
            "colorbar": {
             "outlinewidth": 0,
             "ticks": ""
            },
            "type": "contourcarpet"
           }
          ],
          "heatmap": [
           {
            "colorbar": {
             "outlinewidth": 0,
             "ticks": ""
            },
            "colorscale": [
             [
              0,
              "#0d0887"
             ],
             [
              0.1111111111111111,
              "#46039f"
             ],
             [
              0.2222222222222222,
              "#7201a8"
             ],
             [
              0.3333333333333333,
              "#9c179e"
             ],
             [
              0.4444444444444444,
              "#bd3786"
             ],
             [
              0.5555555555555556,
              "#d8576b"
             ],
             [
              0.6666666666666666,
              "#ed7953"
             ],
             [
              0.7777777777777778,
              "#fb9f3a"
             ],
             [
              0.8888888888888888,
              "#fdca26"
             ],
             [
              1,
              "#f0f921"
             ]
            ],
            "type": "heatmap"
           }
          ],
          "heatmapgl": [
           {
            "colorbar": {
             "outlinewidth": 0,
             "ticks": ""
            },
            "colorscale": [
             [
              0,
              "#0d0887"
             ],
             [
              0.1111111111111111,
              "#46039f"
             ],
             [
              0.2222222222222222,
              "#7201a8"
             ],
             [
              0.3333333333333333,
              "#9c179e"
             ],
             [
              0.4444444444444444,
              "#bd3786"
             ],
             [
              0.5555555555555556,
              "#d8576b"
             ],
             [
              0.6666666666666666,
              "#ed7953"
             ],
             [
              0.7777777777777778,
              "#fb9f3a"
             ],
             [
              0.8888888888888888,
              "#fdca26"
             ],
             [
              1,
              "#f0f921"
             ]
            ],
            "type": "heatmapgl"
           }
          ],
          "histogram": [
           {
            "marker": {
             "pattern": {
              "fillmode": "overlay",
              "size": 10,
              "solidity": 0.2
             }
            },
            "type": "histogram"
           }
          ],
          "histogram2d": [
           {
            "colorbar": {
             "outlinewidth": 0,
             "ticks": ""
            },
            "colorscale": [
             [
              0,
              "#0d0887"
             ],
             [
              0.1111111111111111,
              "#46039f"
             ],
             [
              0.2222222222222222,
              "#7201a8"
             ],
             [
              0.3333333333333333,
              "#9c179e"
             ],
             [
              0.4444444444444444,
              "#bd3786"
             ],
             [
              0.5555555555555556,
              "#d8576b"
             ],
             [
              0.6666666666666666,
              "#ed7953"
             ],
             [
              0.7777777777777778,
              "#fb9f3a"
             ],
             [
              0.8888888888888888,
              "#fdca26"
             ],
             [
              1,
              "#f0f921"
             ]
            ],
            "type": "histogram2d"
           }
          ],
          "histogram2dcontour": [
           {
            "colorbar": {
             "outlinewidth": 0,
             "ticks": ""
            },
            "colorscale": [
             [
              0,
              "#0d0887"
             ],
             [
              0.1111111111111111,
              "#46039f"
             ],
             [
              0.2222222222222222,
              "#7201a8"
             ],
             [
              0.3333333333333333,
              "#9c179e"
             ],
             [
              0.4444444444444444,
              "#bd3786"
             ],
             [
              0.5555555555555556,
              "#d8576b"
             ],
             [
              0.6666666666666666,
              "#ed7953"
             ],
             [
              0.7777777777777778,
              "#fb9f3a"
             ],
             [
              0.8888888888888888,
              "#fdca26"
             ],
             [
              1,
              "#f0f921"
             ]
            ],
            "type": "histogram2dcontour"
           }
          ],
          "mesh3d": [
           {
            "colorbar": {
             "outlinewidth": 0,
             "ticks": ""
            },
            "type": "mesh3d"
           }
          ],
          "parcoords": [
           {
            "line": {
             "colorbar": {
              "outlinewidth": 0,
              "ticks": ""
             }
            },
            "type": "parcoords"
           }
          ],
          "pie": [
           {
            "automargin": true,
            "type": "pie"
           }
          ],
          "scatter": [
           {
            "fillpattern": {
             "fillmode": "overlay",
             "size": 10,
             "solidity": 0.2
            },
            "type": "scatter"
           }
          ],
          "scatter3d": [
           {
            "line": {
             "colorbar": {
              "outlinewidth": 0,
              "ticks": ""
             }
            },
            "marker": {
             "colorbar": {
              "outlinewidth": 0,
              "ticks": ""
             }
            },
            "type": "scatter3d"
           }
          ],
          "scattercarpet": [
           {
            "marker": {
             "colorbar": {
              "outlinewidth": 0,
              "ticks": ""
             }
            },
            "type": "scattercarpet"
           }
          ],
          "scattergeo": [
           {
            "marker": {
             "colorbar": {
              "outlinewidth": 0,
              "ticks": ""
             }
            },
            "type": "scattergeo"
           }
          ],
          "scattergl": [
           {
            "marker": {
             "colorbar": {
              "outlinewidth": 0,
              "ticks": ""
             }
            },
            "type": "scattergl"
           }
          ],
          "scattermapbox": [
           {
            "marker": {
             "colorbar": {
              "outlinewidth": 0,
              "ticks": ""
             }
            },
            "type": "scattermapbox"
           }
          ],
          "scatterpolar": [
           {
            "marker": {
             "colorbar": {
              "outlinewidth": 0,
              "ticks": ""
             }
            },
            "type": "scatterpolar"
           }
          ],
          "scatterpolargl": [
           {
            "marker": {
             "colorbar": {
              "outlinewidth": 0,
              "ticks": ""
             }
            },
            "type": "scatterpolargl"
           }
          ],
          "scatterternary": [
           {
            "marker": {
             "colorbar": {
              "outlinewidth": 0,
              "ticks": ""
             }
            },
            "type": "scatterternary"
           }
          ],
          "surface": [
           {
            "colorbar": {
             "outlinewidth": 0,
             "ticks": ""
            },
            "colorscale": [
             [
              0,
              "#0d0887"
             ],
             [
              0.1111111111111111,
              "#46039f"
             ],
             [
              0.2222222222222222,
              "#7201a8"
             ],
             [
              0.3333333333333333,
              "#9c179e"
             ],
             [
              0.4444444444444444,
              "#bd3786"
             ],
             [
              0.5555555555555556,
              "#d8576b"
             ],
             [
              0.6666666666666666,
              "#ed7953"
             ],
             [
              0.7777777777777778,
              "#fb9f3a"
             ],
             [
              0.8888888888888888,
              "#fdca26"
             ],
             [
              1,
              "#f0f921"
             ]
            ],
            "type": "surface"
           }
          ],
          "table": [
           {
            "cells": {
             "fill": {
              "color": "#EBF0F8"
             },
             "line": {
              "color": "white"
             }
            },
            "header": {
             "fill": {
              "color": "#C8D4E3"
             },
             "line": {
              "color": "white"
             }
            },
            "type": "table"
           }
          ]
         },
         "layout": {
          "annotationdefaults": {
           "arrowcolor": "#2a3f5f",
           "arrowhead": 0,
           "arrowwidth": 1
          },
          "autotypenumbers": "strict",
          "coloraxis": {
           "colorbar": {
            "outlinewidth": 0,
            "ticks": ""
           }
          },
          "colorscale": {
           "diverging": [
            [
             0,
             "#8e0152"
            ],
            [
             0.1,
             "#c51b7d"
            ],
            [
             0.2,
             "#de77ae"
            ],
            [
             0.3,
             "#f1b6da"
            ],
            [
             0.4,
             "#fde0ef"
            ],
            [
             0.5,
             "#f7f7f7"
            ],
            [
             0.6,
             "#e6f5d0"
            ],
            [
             0.7,
             "#b8e186"
            ],
            [
             0.8,
             "#7fbc41"
            ],
            [
             0.9,
             "#4d9221"
            ],
            [
             1,
             "#276419"
            ]
           ],
           "sequential": [
            [
             0,
             "#0d0887"
            ],
            [
             0.1111111111111111,
             "#46039f"
            ],
            [
             0.2222222222222222,
             "#7201a8"
            ],
            [
             0.3333333333333333,
             "#9c179e"
            ],
            [
             0.4444444444444444,
             "#bd3786"
            ],
            [
             0.5555555555555556,
             "#d8576b"
            ],
            [
             0.6666666666666666,
             "#ed7953"
            ],
            [
             0.7777777777777778,
             "#fb9f3a"
            ],
            [
             0.8888888888888888,
             "#fdca26"
            ],
            [
             1,
             "#f0f921"
            ]
           ],
           "sequentialminus": [
            [
             0,
             "#0d0887"
            ],
            [
             0.1111111111111111,
             "#46039f"
            ],
            [
             0.2222222222222222,
             "#7201a8"
            ],
            [
             0.3333333333333333,
             "#9c179e"
            ],
            [
             0.4444444444444444,
             "#bd3786"
            ],
            [
             0.5555555555555556,
             "#d8576b"
            ],
            [
             0.6666666666666666,
             "#ed7953"
            ],
            [
             0.7777777777777778,
             "#fb9f3a"
            ],
            [
             0.8888888888888888,
             "#fdca26"
            ],
            [
             1,
             "#f0f921"
            ]
           ]
          },
          "colorway": [
           "#636efa",
           "#EF553B",
           "#00cc96",
           "#ab63fa",
           "#FFA15A",
           "#19d3f3",
           "#FF6692",
           "#B6E880",
           "#FF97FF",
           "#FECB52"
          ],
          "font": {
           "color": "#2a3f5f"
          },
          "geo": {
           "bgcolor": "white",
           "lakecolor": "white",
           "landcolor": "white",
           "showlakes": true,
           "showland": true,
           "subunitcolor": "#C8D4E3"
          },
          "hoverlabel": {
           "align": "left"
          },
          "hovermode": "closest",
          "mapbox": {
           "style": "light"
          },
          "paper_bgcolor": "white",
          "plot_bgcolor": "white",
          "polar": {
           "angularaxis": {
            "gridcolor": "#EBF0F8",
            "linecolor": "#EBF0F8",
            "ticks": ""
           },
           "bgcolor": "white",
           "radialaxis": {
            "gridcolor": "#EBF0F8",
            "linecolor": "#EBF0F8",
            "ticks": ""
           }
          },
          "scene": {
           "xaxis": {
            "backgroundcolor": "white",
            "gridcolor": "#DFE8F3",
            "gridwidth": 2,
            "linecolor": "#EBF0F8",
            "showbackground": true,
            "ticks": "",
            "zerolinecolor": "#EBF0F8"
           },
           "yaxis": {
            "backgroundcolor": "white",
            "gridcolor": "#DFE8F3",
            "gridwidth": 2,
            "linecolor": "#EBF0F8",
            "showbackground": true,
            "ticks": "",
            "zerolinecolor": "#EBF0F8"
           },
           "zaxis": {
            "backgroundcolor": "white",
            "gridcolor": "#DFE8F3",
            "gridwidth": 2,
            "linecolor": "#EBF0F8",
            "showbackground": true,
            "ticks": "",
            "zerolinecolor": "#EBF0F8"
           }
          },
          "shapedefaults": {
           "line": {
            "color": "#2a3f5f"
           }
          },
          "ternary": {
           "aaxis": {
            "gridcolor": "#DFE8F3",
            "linecolor": "#A2B1C6",
            "ticks": ""
           },
           "baxis": {
            "gridcolor": "#DFE8F3",
            "linecolor": "#A2B1C6",
            "ticks": ""
           },
           "bgcolor": "white",
           "caxis": {
            "gridcolor": "#DFE8F3",
            "linecolor": "#A2B1C6",
            "ticks": ""
           }
          },
          "title": {
           "x": 0.05
          },
          "xaxis": {
           "automargin": true,
           "gridcolor": "#EBF0F8",
           "linecolor": "#EBF0F8",
           "ticks": "",
           "title": {
            "standoff": 15
           },
           "zerolinecolor": "#EBF0F8",
           "zerolinewidth": 2
          },
          "yaxis": {
           "automargin": true,
           "gridcolor": "#EBF0F8",
           "linecolor": "#EBF0F8",
           "ticks": "",
           "title": {
            "standoff": 15
           },
           "zerolinecolor": "#EBF0F8",
           "zerolinewidth": 2
          }
         }
        },
        "title": {
         "text": "label"
        },
        "xaxis": {
         "anchor": "y",
         "domain": [
          0,
          1
         ],
         "title": {
          "text": "sub_category"
         }
        },
        "yaxis": {
         "anchor": "x",
         "domain": [
          0,
          1
         ],
         "title": {
          "text": "image"
         }
        }
       }
      }
     },
     "metadata": {},
     "output_type": "display_data"
    }
   ],
   "source": [
    "fig = px.bar(df[:10], x='sub_category', y='image', title='label', template='plotly_white', labels={'ngram': 'Bigram', 'count': 'Count'})\n",
    "fig.show()"
   ]
  },
  {
   "cell_type": "markdown",
   "metadata": {},
   "source": [
    "# **Pre-processig**"
   ]
  },
  {
   "cell_type": "code",
   "execution_count": 586,
   "metadata": {},
   "outputs": [
    {
     "data": {
      "text/plain": [
       "Index(['sub_category', 'image', 'actual_price', 'name', 'image_url_length'], dtype='object')"
      ]
     },
     "execution_count": 586,
     "metadata": {},
     "output_type": "execute_result"
    }
   ],
   "source": [
    "df.columns"
   ]
  },
  {
   "cell_type": "code",
   "execution_count": 587,
   "metadata": {},
   "outputs": [],
   "source": [
    "df = df[['name','image','actual_price']]"
   ]
  },
  {
   "cell_type": "code",
   "execution_count": 588,
   "metadata": {},
   "outputs": [
    {
     "data": {
      "text/html": [
       "<div>\n",
       "<style scoped>\n",
       "    .dataframe tbody tr th:only-of-type {\n",
       "        vertical-align: middle;\n",
       "    }\n",
       "\n",
       "    .dataframe tbody tr th {\n",
       "        vertical-align: top;\n",
       "    }\n",
       "\n",
       "    .dataframe thead th {\n",
       "        text-align: right;\n",
       "    }\n",
       "</style>\n",
       "<table border=\"1\" class=\"dataframe\">\n",
       "  <thead>\n",
       "    <tr style=\"text-align: right;\">\n",
       "      <th></th>\n",
       "      <th>name</th>\n",
       "      <th>image</th>\n",
       "      <th>actual_price</th>\n",
       "    </tr>\n",
       "  </thead>\n",
       "  <tbody>\n",
       "    <tr>\n",
       "      <th>0</th>\n",
       "      <td>Lloyd 1.5 Ton 3 Star Inverter Split Ac (5 In 1...</td>\n",
       "      <td>https://m.media-amazon.com/images/I/31UISB90sY...</td>\n",
       "      <td>â?58,990</td>\n",
       "    </tr>\n",
       "    <tr>\n",
       "      <th>1</th>\n",
       "      <td>LG 1.5 Ton 5 Star AI DUAL Inverter Split AC (C...</td>\n",
       "      <td>https://m.media-amazon.com/images/I/51JFb7FctD...</td>\n",
       "      <td>â?75,990</td>\n",
       "    </tr>\n",
       "    <tr>\n",
       "      <th>2</th>\n",
       "      <td>LG 1 Ton 4 Star Ai Dual Inverter Split Ac (Cop...</td>\n",
       "      <td>https://m.media-amazon.com/images/I/51JFb7FctD...</td>\n",
       "      <td>â?61,990</td>\n",
       "    </tr>\n",
       "    <tr>\n",
       "      <th>3</th>\n",
       "      <td>LG 1.5 Ton 3 Star AI DUAL Inverter Split AC (C...</td>\n",
       "      <td>https://m.media-amazon.com/images/I/51JFb7FctD...</td>\n",
       "      <td>â?68,990</td>\n",
       "    </tr>\n",
       "    <tr>\n",
       "      <th>4</th>\n",
       "      <td>Carrier 1.5 Ton 3 Star Inverter Split AC (Copp...</td>\n",
       "      <td>https://m.media-amazon.com/images/I/41lrtqXPiW...</td>\n",
       "      <td>â?67,790</td>\n",
       "    </tr>\n",
       "  </tbody>\n",
       "</table>\n",
       "</div>"
      ],
      "text/plain": [
       "                                                name  \\\n",
       "0  Lloyd 1.5 Ton 3 Star Inverter Split Ac (5 In 1...   \n",
       "1  LG 1.5 Ton 5 Star AI DUAL Inverter Split AC (C...   \n",
       "2  LG 1 Ton 4 Star Ai Dual Inverter Split Ac (Cop...   \n",
       "3  LG 1.5 Ton 3 Star AI DUAL Inverter Split AC (C...   \n",
       "4  Carrier 1.5 Ton 3 Star Inverter Split AC (Copp...   \n",
       "\n",
       "                                               image actual_price  \n",
       "0  https://m.media-amazon.com/images/I/31UISB90sY...    â?58,990  \n",
       "1  https://m.media-amazon.com/images/I/51JFb7FctD...    â?75,990  \n",
       "2  https://m.media-amazon.com/images/I/51JFb7FctD...    â?61,990  \n",
       "3  https://m.media-amazon.com/images/I/51JFb7FctD...    â?68,990  \n",
       "4  https://m.media-amazon.com/images/I/41lrtqXPiW...    â?67,790  "
      ]
     },
     "execution_count": 588,
     "metadata": {},
     "output_type": "execute_result"
    }
   ],
   "source": [
    "df.head()"
   ]
  },
  {
   "cell_type": "code",
   "execution_count": 589,
   "metadata": {},
   "outputs": [
    {
     "data": {
      "text/plain": [
       "name             0\n",
       "image            0\n",
       "actual_price    33\n",
       "dtype: int64"
      ]
     },
     "execution_count": 589,
     "metadata": {},
     "output_type": "execute_result"
    }
   ],
   "source": [
    "df.isnull().sum()"
   ]
  },
  {
   "cell_type": "code",
   "execution_count": 590,
   "metadata": {},
   "outputs": [],
   "source": [
    "df.bfill(inplace=True)"
   ]
  },
  {
   "cell_type": "code",
   "execution_count": 591,
   "metadata": {},
   "outputs": [
    {
     "data": {
      "text/plain": [
       "name            0\n",
       "image           0\n",
       "actual_price    0\n",
       "dtype: int64"
      ]
     },
     "execution_count": 591,
     "metadata": {},
     "output_type": "execute_result"
    }
   ],
   "source": [
    "df.isnull().sum()"
   ]
  },
  {
   "cell_type": "code",
   "execution_count": 592,
   "metadata": {},
   "outputs": [
    {
     "name": "stdout",
     "output_type": "stream",
     "text": [
      "<class 'pandas.core.frame.DataFrame'>\n",
      "RangeIndex: 2639 entries, 0 to 2638\n",
      "Data columns (total 3 columns):\n",
      " #   Column        Non-Null Count  Dtype \n",
      "---  ------        --------------  ----- \n",
      " 0   name          2639 non-null   object\n",
      " 1   image         2639 non-null   object\n",
      " 2   actual_price  2639 non-null   object\n",
      "dtypes: object(3)\n",
      "memory usage: 62.0+ KB\n"
     ]
    }
   ],
   "source": [
    "df.info()"
   ]
  },
  {
   "cell_type": "code",
   "execution_count": 593,
   "metadata": {},
   "outputs": [],
   "source": [
    "unknown_symbol = 'â?'\n",
    "df['actual_price'] = df['actual_price'].apply(lambda x: x.replace(unknown_symbol, ''))"
   ]
  },
  {
   "cell_type": "code",
   "execution_count": 594,
   "metadata": {},
   "outputs": [
    {
     "data": {
      "text/html": [
       "<div>\n",
       "<style scoped>\n",
       "    .dataframe tbody tr th:only-of-type {\n",
       "        vertical-align: middle;\n",
       "    }\n",
       "\n",
       "    .dataframe tbody tr th {\n",
       "        vertical-align: top;\n",
       "    }\n",
       "\n",
       "    .dataframe thead th {\n",
       "        text-align: right;\n",
       "    }\n",
       "</style>\n",
       "<table border=\"1\" class=\"dataframe\">\n",
       "  <thead>\n",
       "    <tr style=\"text-align: right;\">\n",
       "      <th></th>\n",
       "      <th>name</th>\n",
       "      <th>image</th>\n",
       "      <th>actual_price</th>\n",
       "    </tr>\n",
       "  </thead>\n",
       "  <tbody>\n",
       "    <tr>\n",
       "      <th>0</th>\n",
       "      <td>Lloyd 1.5 Ton 3 Star Inverter Split Ac (5 In 1...</td>\n",
       "      <td>https://m.media-amazon.com/images/I/31UISB90sY...</td>\n",
       "      <td>58,990</td>\n",
       "    </tr>\n",
       "    <tr>\n",
       "      <th>1</th>\n",
       "      <td>LG 1.5 Ton 5 Star AI DUAL Inverter Split AC (C...</td>\n",
       "      <td>https://m.media-amazon.com/images/I/51JFb7FctD...</td>\n",
       "      <td>75,990</td>\n",
       "    </tr>\n",
       "    <tr>\n",
       "      <th>2</th>\n",
       "      <td>LG 1 Ton 4 Star Ai Dual Inverter Split Ac (Cop...</td>\n",
       "      <td>https://m.media-amazon.com/images/I/51JFb7FctD...</td>\n",
       "      <td>61,990</td>\n",
       "    </tr>\n",
       "    <tr>\n",
       "      <th>3</th>\n",
       "      <td>LG 1.5 Ton 3 Star AI DUAL Inverter Split AC (C...</td>\n",
       "      <td>https://m.media-amazon.com/images/I/51JFb7FctD...</td>\n",
       "      <td>68,990</td>\n",
       "    </tr>\n",
       "    <tr>\n",
       "      <th>4</th>\n",
       "      <td>Carrier 1.5 Ton 3 Star Inverter Split AC (Copp...</td>\n",
       "      <td>https://m.media-amazon.com/images/I/41lrtqXPiW...</td>\n",
       "      <td>67,790</td>\n",
       "    </tr>\n",
       "  </tbody>\n",
       "</table>\n",
       "</div>"
      ],
      "text/plain": [
       "                                                name  \\\n",
       "0  Lloyd 1.5 Ton 3 Star Inverter Split Ac (5 In 1...   \n",
       "1  LG 1.5 Ton 5 Star AI DUAL Inverter Split AC (C...   \n",
       "2  LG 1 Ton 4 Star Ai Dual Inverter Split Ac (Cop...   \n",
       "3  LG 1.5 Ton 3 Star AI DUAL Inverter Split AC (C...   \n",
       "4  Carrier 1.5 Ton 3 Star Inverter Split AC (Copp...   \n",
       "\n",
       "                                               image actual_price  \n",
       "0  https://m.media-amazon.com/images/I/31UISB90sY...       58,990  \n",
       "1  https://m.media-amazon.com/images/I/51JFb7FctD...       75,990  \n",
       "2  https://m.media-amazon.com/images/I/51JFb7FctD...       61,990  \n",
       "3  https://m.media-amazon.com/images/I/51JFb7FctD...       68,990  \n",
       "4  https://m.media-amazon.com/images/I/41lrtqXPiW...       67,790  "
      ]
     },
     "execution_count": 594,
     "metadata": {},
     "output_type": "execute_result"
    }
   ],
   "source": [
    "df.head()"
   ]
  },
  {
   "cell_type": "code",
   "execution_count": 595,
   "metadata": {},
   "outputs": [
    {
     "data": {
      "text/html": [
       "<div>\n",
       "<style scoped>\n",
       "    .dataframe tbody tr th:only-of-type {\n",
       "        vertical-align: middle;\n",
       "    }\n",
       "\n",
       "    .dataframe tbody tr th {\n",
       "        vertical-align: top;\n",
       "    }\n",
       "\n",
       "    .dataframe thead th {\n",
       "        text-align: right;\n",
       "    }\n",
       "</style>\n",
       "<table border=\"1\" class=\"dataframe\">\n",
       "  <thead>\n",
       "    <tr style=\"text-align: right;\">\n",
       "      <th></th>\n",
       "      <th>name</th>\n",
       "      <th>image</th>\n",
       "      <th>actual_price</th>\n",
       "    </tr>\n",
       "  </thead>\n",
       "  <tbody>\n",
       "    <tr>\n",
       "      <th>2634</th>\n",
       "      <td>HeraDawn Cottonblend Mens Printed Oversized T-...</td>\n",
       "      <td>https://m.media-amazon.com/images/W/IMAGERENDE...</td>\n",
       "      <td>1,399</td>\n",
       "    </tr>\n",
       "    <tr>\n",
       "      <th>2635</th>\n",
       "      <td>HF RIGHT Military Army Commando Full Sleeve T-...</td>\n",
       "      <td>https://m.media-amazon.com/images/W/IMAGERENDE...</td>\n",
       "      <td>1,699</td>\n",
       "    </tr>\n",
       "    <tr>\n",
       "      <th>2636</th>\n",
       "      <td>Levi's Men's Slim Fit Polo</td>\n",
       "      <td>https://m.media-amazon.com/images/W/IMAGERENDE...</td>\n",
       "      <td>1,699</td>\n",
       "    </tr>\n",
       "    <tr>\n",
       "      <th>2637</th>\n",
       "      <td>Classic Polo Mens Solid Half Sleeve 100% Cotto...</td>\n",
       "      <td>https://m.media-amazon.com/images/W/IMAGERENDE...</td>\n",
       "      <td>799</td>\n",
       "    </tr>\n",
       "    <tr>\n",
       "      <th>2638</th>\n",
       "      <td>MPL Sports Team India Retro Limited Over Jerse...</td>\n",
       "      <td>https://m.media-amazon.com/images/W/IMAGERENDE...</td>\n",
       "      <td>1,999</td>\n",
       "    </tr>\n",
       "  </tbody>\n",
       "</table>\n",
       "</div>"
      ],
      "text/plain": [
       "                                                   name  \\\n",
       "2634  HeraDawn Cottonblend Mens Printed Oversized T-...   \n",
       "2635  HF RIGHT Military Army Commando Full Sleeve T-...   \n",
       "2636                         Levi's Men's Slim Fit Polo   \n",
       "2637  Classic Polo Mens Solid Half Sleeve 100% Cotto...   \n",
       "2638  MPL Sports Team India Retro Limited Over Jerse...   \n",
       "\n",
       "                                                  image actual_price  \n",
       "2634  https://m.media-amazon.com/images/W/IMAGERENDE...        1,399  \n",
       "2635  https://m.media-amazon.com/images/W/IMAGERENDE...        1,699  \n",
       "2636  https://m.media-amazon.com/images/W/IMAGERENDE...        1,699  \n",
       "2637  https://m.media-amazon.com/images/W/IMAGERENDE...          799  \n",
       "2638  https://m.media-amazon.com/images/W/IMAGERENDE...        1,999  "
      ]
     },
     "execution_count": 595,
     "metadata": {},
     "output_type": "execute_result"
    }
   ],
   "source": [
    "df.tail()"
   ]
  },
  {
   "cell_type": "code",
   "execution_count": 596,
   "metadata": {},
   "outputs": [],
   "source": [
    "data = df"
   ]
  },
  {
   "cell_type": "code",
   "execution_count": 597,
   "metadata": {},
   "outputs": [
    {
     "data": {
      "text/html": [
       "<div>\n",
       "<style scoped>\n",
       "    .dataframe tbody tr th:only-of-type {\n",
       "        vertical-align: middle;\n",
       "    }\n",
       "\n",
       "    .dataframe tbody tr th {\n",
       "        vertical-align: top;\n",
       "    }\n",
       "\n",
       "    .dataframe thead th {\n",
       "        text-align: right;\n",
       "    }\n",
       "</style>\n",
       "<table border=\"1\" class=\"dataframe\">\n",
       "  <thead>\n",
       "    <tr style=\"text-align: right;\">\n",
       "      <th></th>\n",
       "      <th>name</th>\n",
       "      <th>image</th>\n",
       "      <th>actual_price</th>\n",
       "    </tr>\n",
       "  </thead>\n",
       "  <tbody>\n",
       "    <tr>\n",
       "      <th>0</th>\n",
       "      <td>Lloyd 1.5 Ton 3 Star Inverter Split Ac (5 In 1...</td>\n",
       "      <td>https://m.media-amazon.com/images/I/31UISB90sY...</td>\n",
       "      <td>58,990</td>\n",
       "    </tr>\n",
       "    <tr>\n",
       "      <th>1</th>\n",
       "      <td>LG 1.5 Ton 5 Star AI DUAL Inverter Split AC (C...</td>\n",
       "      <td>https://m.media-amazon.com/images/I/51JFb7FctD...</td>\n",
       "      <td>75,990</td>\n",
       "    </tr>\n",
       "    <tr>\n",
       "      <th>2</th>\n",
       "      <td>LG 1 Ton 4 Star Ai Dual Inverter Split Ac (Cop...</td>\n",
       "      <td>https://m.media-amazon.com/images/I/51JFb7FctD...</td>\n",
       "      <td>61,990</td>\n",
       "    </tr>\n",
       "    <tr>\n",
       "      <th>3</th>\n",
       "      <td>LG 1.5 Ton 3 Star AI DUAL Inverter Split AC (C...</td>\n",
       "      <td>https://m.media-amazon.com/images/I/51JFb7FctD...</td>\n",
       "      <td>68,990</td>\n",
       "    </tr>\n",
       "    <tr>\n",
       "      <th>4</th>\n",
       "      <td>Carrier 1.5 Ton 3 Star Inverter Split AC (Copp...</td>\n",
       "      <td>https://m.media-amazon.com/images/I/41lrtqXPiW...</td>\n",
       "      <td>67,790</td>\n",
       "    </tr>\n",
       "  </tbody>\n",
       "</table>\n",
       "</div>"
      ],
      "text/plain": [
       "                                                name  \\\n",
       "0  Lloyd 1.5 Ton 3 Star Inverter Split Ac (5 In 1...   \n",
       "1  LG 1.5 Ton 5 Star AI DUAL Inverter Split AC (C...   \n",
       "2  LG 1 Ton 4 Star Ai Dual Inverter Split Ac (Cop...   \n",
       "3  LG 1.5 Ton 3 Star AI DUAL Inverter Split AC (C...   \n",
       "4  Carrier 1.5 Ton 3 Star Inverter Split AC (Copp...   \n",
       "\n",
       "                                               image actual_price  \n",
       "0  https://m.media-amazon.com/images/I/31UISB90sY...       58,990  \n",
       "1  https://m.media-amazon.com/images/I/51JFb7FctD...       75,990  \n",
       "2  https://m.media-amazon.com/images/I/51JFb7FctD...       61,990  \n",
       "3  https://m.media-amazon.com/images/I/51JFb7FctD...       68,990  \n",
       "4  https://m.media-amazon.com/images/I/41lrtqXPiW...       67,790  "
      ]
     },
     "execution_count": 597,
     "metadata": {},
     "output_type": "execute_result"
    }
   ],
   "source": [
    "data.head()"
   ]
  },
  {
   "cell_type": "code",
   "execution_count": 598,
   "metadata": {},
   "outputs": [],
   "source": [
    "df['actual_price'] = pd.to_numeric(df['actual_price'], errors='coerce')"
   ]
  },
  {
   "cell_type": "code",
   "execution_count": 599,
   "metadata": {},
   "outputs": [
    {
     "data": {
      "text/plain": [
       "name             object\n",
       "image            object\n",
       "actual_price    float64\n",
       "dtype: object"
      ]
     },
     "execution_count": 599,
     "metadata": {},
     "output_type": "execute_result"
    }
   ],
   "source": [
    "df.dtypes"
   ]
  },
  {
   "cell_type": "code",
   "execution_count": null,
   "metadata": {},
   "outputs": [],
   "source": []
  },
  {
   "cell_type": "code",
   "execution_count": 600,
   "metadata": {},
   "outputs": [
    {
     "data": {
      "text/plain": [
       "Index(['name', 'image', 'actual_price'], dtype='object')"
      ]
     },
     "execution_count": 600,
     "metadata": {},
     "output_type": "execute_result"
    }
   ],
   "source": [
    "data.columns"
   ]
  },
  {
   "cell_type": "code",
   "execution_count": 601,
   "metadata": {},
   "outputs": [
    {
     "data": {
      "text/plain": [
       "name               0\n",
       "image              0\n",
       "actual_price    1411\n",
       "dtype: int64"
      ]
     },
     "execution_count": 601,
     "metadata": {},
     "output_type": "execute_result"
    }
   ],
   "source": [
    "df.isnull().sum()"
   ]
  },
  {
   "cell_type": "code",
   "execution_count": 602,
   "metadata": {},
   "outputs": [],
   "source": [
    "df.bfill(inplace=True)\n",
    "df.ffill(inplace=True)"
   ]
  },
  {
   "cell_type": "code",
   "execution_count": 603,
   "metadata": {},
   "outputs": [
    {
     "data": {
      "text/plain": [
       "name            0\n",
       "image           0\n",
       "actual_price    0\n",
       "dtype: int64"
      ]
     },
     "execution_count": 603,
     "metadata": {},
     "output_type": "execute_result"
    }
   ],
   "source": [
    "df.isnull().sum()"
   ]
  },
  {
   "cell_type": "markdown",
   "metadata": {},
   "source": [
    "# **RECOMENDATION**"
   ]
  },
  {
   "cell_type": "code",
   "execution_count": 604,
   "metadata": {},
   "outputs": [
    {
     "data": {
      "text/html": [
       "<style>#sk-container-id-4 {color: black;background-color: white;}#sk-container-id-4 pre{padding: 0;}#sk-container-id-4 div.sk-toggleable {background-color: white;}#sk-container-id-4 label.sk-toggleable__label {cursor: pointer;display: block;width: 100%;margin-bottom: 0;padding: 0.3em;box-sizing: border-box;text-align: center;}#sk-container-id-4 label.sk-toggleable__label-arrow:before {content: \"▸\";float: left;margin-right: 0.25em;color: #696969;}#sk-container-id-4 label.sk-toggleable__label-arrow:hover:before {color: black;}#sk-container-id-4 div.sk-estimator:hover label.sk-toggleable__label-arrow:before {color: black;}#sk-container-id-4 div.sk-toggleable__content {max-height: 0;max-width: 0;overflow: hidden;text-align: left;background-color: #f0f8ff;}#sk-container-id-4 div.sk-toggleable__content pre {margin: 0.2em;color: black;border-radius: 0.25em;background-color: #f0f8ff;}#sk-container-id-4 input.sk-toggleable__control:checked~div.sk-toggleable__content {max-height: 200px;max-width: 100%;overflow: auto;}#sk-container-id-4 input.sk-toggleable__control:checked~label.sk-toggleable__label-arrow:before {content: \"▾\";}#sk-container-id-4 div.sk-estimator input.sk-toggleable__control:checked~label.sk-toggleable__label {background-color: #d4ebff;}#sk-container-id-4 div.sk-label input.sk-toggleable__control:checked~label.sk-toggleable__label {background-color: #d4ebff;}#sk-container-id-4 input.sk-hidden--visually {border: 0;clip: rect(1px 1px 1px 1px);clip: rect(1px, 1px, 1px, 1px);height: 1px;margin: -1px;overflow: hidden;padding: 0;position: absolute;width: 1px;}#sk-container-id-4 div.sk-estimator {font-family: monospace;background-color: #f0f8ff;border: 1px dotted black;border-radius: 0.25em;box-sizing: border-box;margin-bottom: 0.5em;}#sk-container-id-4 div.sk-estimator:hover {background-color: #d4ebff;}#sk-container-id-4 div.sk-parallel-item::after {content: \"\";width: 100%;border-bottom: 1px solid gray;flex-grow: 1;}#sk-container-id-4 div.sk-label:hover label.sk-toggleable__label {background-color: #d4ebff;}#sk-container-id-4 div.sk-serial::before {content: \"\";position: absolute;border-left: 1px solid gray;box-sizing: border-box;top: 0;bottom: 0;left: 50%;z-index: 0;}#sk-container-id-4 div.sk-serial {display: flex;flex-direction: column;align-items: center;background-color: white;padding-right: 0.2em;padding-left: 0.2em;position: relative;}#sk-container-id-4 div.sk-item {position: relative;z-index: 1;}#sk-container-id-4 div.sk-parallel {display: flex;align-items: stretch;justify-content: center;background-color: white;position: relative;}#sk-container-id-4 div.sk-item::before, #sk-container-id-4 div.sk-parallel-item::before {content: \"\";position: absolute;border-left: 1px solid gray;box-sizing: border-box;top: 0;bottom: 0;left: 50%;z-index: -1;}#sk-container-id-4 div.sk-parallel-item {display: flex;flex-direction: column;z-index: 1;position: relative;background-color: white;}#sk-container-id-4 div.sk-parallel-item:first-child::after {align-self: flex-end;width: 50%;}#sk-container-id-4 div.sk-parallel-item:last-child::after {align-self: flex-start;width: 50%;}#sk-container-id-4 div.sk-parallel-item:only-child::after {width: 0;}#sk-container-id-4 div.sk-dashed-wrapped {border: 1px dashed gray;margin: 0 0.4em 0.5em 0.4em;box-sizing: border-box;padding-bottom: 0.4em;background-color: white;}#sk-container-id-4 div.sk-label label {font-family: monospace;font-weight: bold;display: inline-block;line-height: 1.2em;}#sk-container-id-4 div.sk-label-container {text-align: center;}#sk-container-id-4 div.sk-container {/* jupyter's `normalize.less` sets `[hidden] { display: none; }` but bootstrap.min.css set `[hidden] { display: none !important; }` so we also need the `!important` here to be able to override the default hidden behavior on the sphinx rendered scikit-learn.org. See: https://github.com/scikit-learn/scikit-learn/issues/21755 */display: inline-block !important;position: relative;}#sk-container-id-4 div.sk-text-repr-fallback {display: none;}</style><div id=\"sk-container-id-4\" class=\"sk-top-container\"><div class=\"sk-text-repr-fallback\"><pre>NearestNeighbors(metric=&#x27;euclidean&#x27;, n_neighbors=11)</pre><b>In a Jupyter environment, please rerun this cell to show the HTML representation or trust the notebook. <br />On GitHub, the HTML representation is unable to render, please try loading this page with nbviewer.org.</b></div><div class=\"sk-container\" hidden><div class=\"sk-item\"><div class=\"sk-estimator sk-toggleable\"><input class=\"sk-toggleable__control sk-hidden--visually\" id=\"sk-estimator-id-4\" type=\"checkbox\" checked><label for=\"sk-estimator-id-4\" class=\"sk-toggleable__label sk-toggleable__label-arrow\">NearestNeighbors</label><div class=\"sk-toggleable__content\"><pre>NearestNeighbors(metric=&#x27;euclidean&#x27;, n_neighbors=11)</pre></div></div></div></div></div>"
      ],
      "text/plain": [
       "NearestNeighbors(metric='euclidean', n_neighbors=11)"
      ]
     },
     "execution_count": 604,
     "metadata": {},
     "output_type": "execute_result"
    }
   ],
   "source": [
    "from sklearn.neighbors import NearestNeighbors\n",
    "# Find unique  names\n",
    "data = df\n",
    "unique_name = data['name'].unique()\n",
    "\n",
    "# Create a dictionary to map author names to numerical values\n",
    "name_to_numeric = {name: idx for idx, name in enumerate(unique_name)}\n",
    "# Convert author names to numerical values\n",
    "data['name_numeric'] = data['name'].map(name_to_numeric)\n",
    "\n",
    "k = 11  # Number of neighbors, including the item itself\n",
    "knn_model = NearestNeighbors(n_neighbors=k, metric='euclidean')\n",
    "knn_model.fit(data[['name_numeric', 'actual_price']])\n",
    "\n"
   ]
  },
  {
   "cell_type": "code",
   "execution_count": 630,
   "metadata": {},
   "outputs": [
    {
     "data": {
      "text/plain": [
       "'Genie Unicorn School Bags for Girls - 3 compartments | Stylish and Trendy College Bag for Girls | Easy to Carry Backpacks ...'"
      ]
     },
     "execution_count": 630,
     "metadata": {},
     "output_type": "execute_result"
    }
   ],
   "source": [
    "df['name'][1451]"
   ]
  },
  {
   "cell_type": "code",
   "execution_count": 644,
   "metadata": {},
   "outputs": [],
   "source": [
    "from sklearn.neighbors import NearestNeighbors\n",
    "\n",
    "# Find unique names\n",
    "data = df\n",
    "unique_name = data['name'].unique()\n",
    "\n",
    "# Create a dictionary to map author names to numerical values\n",
    "name_to_numeric = {name: idx for idx, name in enumerate(unique_name)}\n",
    "# Convert author names to numerical values\n",
    "data['name_numeric'] = data['name'].map(name_to_numeric)\n",
    "\n",
    "k = 11  # Number of neighbors, including the item itself\n",
    "knn_model = NearestNeighbors(n_neighbors=k, metric='euclidean')\n",
    "knn_model.fit(data[['name_numeric', 'actual_price']])\n",
    "\n",
    "# User input\n",
    "user_name = 'lg'\n",
    "\n",
    "# Filter products containing the user input in their name\n",
    "filtered_products = data[data['name'].str.contains(user_name, case=False)]\n",
    "\n",
    "if filtered_products.empty:\n",
    "    print(\"No products with the specified keyword found.\")\n",
    "else:\n",
    "    # Sort the filtered products by a relevant criterion (e.g., cost) and get the top 15\n",
    "    top_15_products = filtered_products.sort_values(by='actual_price')[:15]\n",
    "\n",
    "    # Get recommended product names, costs, and images from the top 15 products\n",
    "    recommended_product_names = top_15_products['name'].tolist()\n",
    "    recommended_product_costs = top_15_products['actual_price'].tolist()\n",
    "    recommended_product_images = top_15_products['image'].tolist()\n"
   ]
  },
  {
   "cell_type": "code",
   "execution_count": 651,
   "metadata": {},
   "outputs": [
    {
     "data": {
      "text/plain": [
       "['Colgate Kids Strawberry 40g Toothpaste, Cavity Protection',\n",
       " 'JASDONE å¨ Heavy Duty Adjustable Top Load Washing Machine Stand Trolley Compatible for LG 6kg, 6.5kg, 7kg, 7.5kg, 8kg,9kg, ...',\n",
       " 'LG Asafoetida Powder, 100 g',\n",
       " 'Paper Boat Panipuri Pellets I Hygienic & Tasty I Ready to Fry I Golgappe, 400g',\n",
       " 'Colgate Active Salt Toothpaste, Germ Fighting Toothpaste for Healthy Gums and Teeth, 500gm (200g X 2 and 100g X 1)',\n",
       " 'Dabur Vedic Tea - 500gm | Handpicked from Assam, Nilgiri & Darjeeling | Soulful Aroma & Rich Taste | 30+ Ayurvedic Herbs |...',\n",
       " 'Foodie Puppies Siphon Pump for Aquarium/Fish Tank Cleaning Tool Without Valve Algae Scrapers & Fish Tank Gravel Cleaner -...',\n",
       " 'Liberty Gliders OLGREEN Mens Non-Leather Casual Shoes',\n",
       " 'PILGRIM Korean 5% Vitamin C Face Serum (Oil Based) for glowing skin with Hyaluronic acid | Vitamin c serum for radiant ski...',\n",
       " 'Colgate Barbie Toothbrush for kids, Battery Powered Electric Toothbrush, Age 3+, Kids toothbrush with Extra Soft Bristles ...',\n",
       " 'LG 1.5 Ton 4 Star Inverter Split AC (Copper, Super Convertible 5-in-1 Cooling, HD Filter with Anti-Virus Protection, 2021 ...',\n",
       " 'LG 1.5 Ton 3 Star Inverter Split AC (Copper, Convertible 4-in-1 Cooling, HD Filter, 2021 Model, LS-Q18PNXA1, White)',\n",
       " 'LG 1.5 Ton 5 Star Dual Inverter Split AC (Copper, 2019 Mode, lKS-Q18HNZD , White)',\n",
       " 'LG 1.5 Ton 4 Star Inverter Split AC (Copper, LS-Q18YNYA, Convertible 4-in-1 Cooling, White)',\n",
       " 'LG 1.5 Ton 5 Star AI DUAL Inverter Split AC (Copper, Super Convertible 6-in-1 Cooling, HD Filter with Anti-Virus Protectio...']"
      ]
     },
     "execution_count": 651,
     "metadata": {},
     "output_type": "execute_result"
    }
   ],
   "source": [
    "recommended_product_names"
   ]
  },
  {
   "cell_type": "code",
   "execution_count": 653,
   "metadata": {},
   "outputs": [
    {
     "data": {
      "text/plain": [
       "[62.0,\n",
       " 149.0,\n",
       " 165.0,\n",
       " 200.0,\n",
       " 282.0,\n",
       " 295.0,\n",
       " 399.0,\n",
       " 499.0,\n",
       " 550.0,\n",
       " 599.0,\n",
       " 999.0,\n",
       " 999.0,\n",
       " 999.0,\n",
       " 999.0,\n",
       " 999.0]"
      ]
     },
     "execution_count": 653,
     "metadata": {},
     "output_type": "execute_result"
    }
   ],
   "source": [
    "recommended_product_costs"
   ]
  },
  {
   "cell_type": "code",
   "execution_count": 655,
   "metadata": {},
   "outputs": [
    {
     "data": {
      "text/plain": [
       "['https://m.media-amazon.com/images/W/IMAGERENDERING_521856-T1/images/I/613ihx25FJL._AC_UL320_.jpg',\n",
       " 'https://m.media-amazon.com/images/I/6138mra1vGL._AC_UL320_.jpg',\n",
       " 'https://m.media-amazon.com/images/I/41BRTVTgr2L._AC_UL320_.jpg',\n",
       " 'https://m.media-amazon.com/images/I/61TWHgzjIDL._AC_UL320_.jpg',\n",
       " 'https://m.media-amazon.com/images/W/IMAGERENDERING_521856-T1/images/I/61eDZAMqhnL._AC_UL320_.jpg',\n",
       " 'https://m.media-amazon.com/images/I/61DMPchFPLL._AC_UL320_.jpg',\n",
       " 'https://m.media-amazon.com/images/I/716WunDd3pL._AC_UL320_.jpg',\n",
       " 'https://m.media-amazon.com/images/W/IMAGERENDERING_521856-T1/images/I/81enUqS449L._AC_UL320_.jpg',\n",
       " 'https://m.media-amazon.com/images/W/IMAGERENDERING_521856-T1/images/I/51Q0+yjd9hL._AC_UL320_.jpg',\n",
       " 'https://m.media-amazon.com/images/W/IMAGERENDERING_521856-T1/images/I/61+hcUhtYoL._AC_UL320_.jpg',\n",
       " 'https://m.media-amazon.com/images/I/51lyOjfKhML._AC_UL320_.jpg',\n",
       " 'https://m.media-amazon.com/images/W/IMAGERENDERING_521856-T1/images/I/51lyOjfKhML._AC_UL320_.jpg',\n",
       " 'https://m.media-amazon.com/images/W/IMAGERENDERING_521856-T1/images/I/41wxMmCSXqL._AC_UL320_.jpg',\n",
       " 'https://m.media-amazon.com/images/W/IMAGERENDERING_521856-T1/images/I/61oBNxWvthL._AC_UL320_.jpg',\n",
       " 'https://m.media-amazon.com/images/W/IMAGERENDERING_521856-T1/images/I/61uVPS3AaWL._AC_UL320_.jpg']"
      ]
     },
     "execution_count": 655,
     "metadata": {},
     "output_type": "execute_result"
    }
   ],
   "source": [
    "recommended_product_images"
   ]
  },
  {
   "cell_type": "code",
   "execution_count": 652,
   "metadata": {},
   "outputs": [
    {
     "data": {
      "text/plain": [
       "'JASDONE å¨ Heavy Duty Adjustable Top Load Washing Machine Stand Trolley Compatible for LG 6kg, 6.5kg, 7kg, 7.5kg, 8kg,9kg, ...'"
      ]
     },
     "execution_count": 652,
     "metadata": {},
     "output_type": "execute_result"
    }
   ],
   "source": [
    "recommended_product_names[1]"
   ]
  },
  {
   "cell_type": "code",
   "execution_count": 654,
   "metadata": {},
   "outputs": [
    {
     "data": {
      "text/plain": [
       "149.0"
      ]
     },
     "execution_count": 654,
     "metadata": {},
     "output_type": "execute_result"
    }
   ],
   "source": [
    "recommended_product_costs[1]"
   ]
  },
  {
   "cell_type": "code",
   "execution_count": 656,
   "metadata": {},
   "outputs": [
    {
     "data": {
      "text/plain": [
       "'https://m.media-amazon.com/images/I/6138mra1vGL._AC_UL320_.jpg'"
      ]
     },
     "execution_count": 656,
     "metadata": {},
     "output_type": "execute_result"
    }
   ],
   "source": [
    "recommended_product_images[1]"
   ]
  },
  {
   "cell_type": "code",
   "execution_count": 32,
   "metadata": {},
   "outputs": [],
   "source": [
    "df = pd.read_csv('T-shirts and Polos.csv',encoding='latin')"
   ]
  },
  {
   "cell_type": "code",
   "execution_count": 33,
   "metadata": {},
   "outputs": [
    {
     "data": {
      "text/html": [
       "<div>\n",
       "<style scoped>\n",
       "    .dataframe tbody tr th:only-of-type {\n",
       "        vertical-align: middle;\n",
       "    }\n",
       "\n",
       "    .dataframe tbody tr th {\n",
       "        vertical-align: top;\n",
       "    }\n",
       "\n",
       "    .dataframe thead th {\n",
       "        text-align: right;\n",
       "    }\n",
       "</style>\n",
       "<table border=\"1\" class=\"dataframe\">\n",
       "  <thead>\n",
       "    <tr style=\"text-align: right;\">\n",
       "      <th></th>\n",
       "      <th>name</th>\n",
       "      <th>main_category</th>\n",
       "      <th>sub_category</th>\n",
       "      <th>image</th>\n",
       "      <th>link</th>\n",
       "      <th>ratings</th>\n",
       "      <th>no_of_ratings</th>\n",
       "      <th>discount_price</th>\n",
       "      <th>actual_price</th>\n",
       "    </tr>\n",
       "  </thead>\n",
       "  <tbody>\n",
       "    <tr>\n",
       "      <th>0</th>\n",
       "      <td>Allen Solly Men's Regular Fit Polo</td>\n",
       "      <td>men's clothing</td>\n",
       "      <td>T-shirts &amp; Polos</td>\n",
       "      <td>https://m.media-amazon.com/images/I/71eUwDk8z+...</td>\n",
       "      <td>https://www.amazon.in/Allen-Solly-Regular-AMKP...</td>\n",
       "      <td>4.1</td>\n",
       "      <td>60,020</td>\n",
       "      <td>â¹590</td>\n",
       "      <td>â¹1,099</td>\n",
       "    </tr>\n",
       "    <tr>\n",
       "      <th>1</th>\n",
       "      <td>Van Heusen Men's Regular Fit Polo Shirt</td>\n",
       "      <td>men's clothing</td>\n",
       "      <td>T-shirts &amp; Polos</td>\n",
       "      <td>https://m.media-amazon.com/images/I/71ISzvgAl2...</td>\n",
       "      <td>https://www.amazon.in/Van-Heusen-Solid-Regular...</td>\n",
       "      <td>4.0</td>\n",
       "      <td>28,727</td>\n",
       "      <td>â¹550</td>\n",
       "      <td>â¹1,099</td>\n",
       "    </tr>\n",
       "    <tr>\n",
       "      <th>2</th>\n",
       "      <td>Scott International Men's Regular Fit T-Shirt ...</td>\n",
       "      <td>men's clothing</td>\n",
       "      <td>T-shirts &amp; Polos</td>\n",
       "      <td>https://m.media-amazon.com/images/I/71HBNT3R66...</td>\n",
       "      <td>https://www.amazon.in/Scott-International-SS20...</td>\n",
       "      <td>3.7</td>\n",
       "      <td>36,734</td>\n",
       "      <td>â¹523</td>\n",
       "      <td>â¹2,397</td>\n",
       "    </tr>\n",
       "    <tr>\n",
       "      <th>3</th>\n",
       "      <td>TOPLOT T-Shirt for Men||T Shirt||White T-Shirt...</td>\n",
       "      <td>men's clothing</td>\n",
       "      <td>T-shirts &amp; Polos</td>\n",
       "      <td>https://m.media-amazon.com/images/I/71GITfTSeR...</td>\n",
       "      <td>https://www.amazon.in/TOPLOT-T-Shirt-Regular-P...</td>\n",
       "      <td>4.5</td>\n",
       "      <td>51</td>\n",
       "      <td>â¹299</td>\n",
       "      <td>â¹1,999</td>\n",
       "    </tr>\n",
       "    <tr>\n",
       "      <th>4</th>\n",
       "      <td>Amazon Brand - Symbol Men's Regular Polo Shirt</td>\n",
       "      <td>men's clothing</td>\n",
       "      <td>T-shirts &amp; Polos</td>\n",
       "      <td>https://m.media-amazon.com/images/I/51K0XmUVDP...</td>\n",
       "      <td>https://www.amazon.in/Amazon-Brand-Symbol-Regu...</td>\n",
       "      <td>3.9</td>\n",
       "      <td>21,352</td>\n",
       "      <td>â¹309</td>\n",
       "      <td>â¹1,099</td>\n",
       "    </tr>\n",
       "  </tbody>\n",
       "</table>\n",
       "</div>"
      ],
      "text/plain": [
       "                                                name   main_category  \\\n",
       "0                 Allen Solly Men's Regular Fit Polo  men's clothing   \n",
       "1            Van Heusen Men's Regular Fit Polo Shirt  men's clothing   \n",
       "2  Scott International Men's Regular Fit T-Shirt ...  men's clothing   \n",
       "3  TOPLOT T-Shirt for Men||T Shirt||White T-Shirt...  men's clothing   \n",
       "4     Amazon Brand - Symbol Men's Regular Polo Shirt  men's clothing   \n",
       "\n",
       "       sub_category                                              image  \\\n",
       "0  T-shirts & Polos  https://m.media-amazon.com/images/I/71eUwDk8z+...   \n",
       "1  T-shirts & Polos  https://m.media-amazon.com/images/I/71ISzvgAl2...   \n",
       "2  T-shirts & Polos  https://m.media-amazon.com/images/I/71HBNT3R66...   \n",
       "3  T-shirts & Polos  https://m.media-amazon.com/images/I/71GITfTSeR...   \n",
       "4  T-shirts & Polos  https://m.media-amazon.com/images/I/51K0XmUVDP...   \n",
       "\n",
       "                                                link ratings no_of_ratings  \\\n",
       "0  https://www.amazon.in/Allen-Solly-Regular-AMKP...     4.1        60,020   \n",
       "1  https://www.amazon.in/Van-Heusen-Solid-Regular...     4.0        28,727   \n",
       "2  https://www.amazon.in/Scott-International-SS20...     3.7        36,734   \n",
       "3  https://www.amazon.in/TOPLOT-T-Shirt-Regular-P...     4.5            51   \n",
       "4  https://www.amazon.in/Amazon-Brand-Symbol-Regu...     3.9        21,352   \n",
       "\n",
       "  discount_price actual_price  \n",
       "0         â¹590     â¹1,099  \n",
       "1         â¹550     â¹1,099  \n",
       "2         â¹523     â¹2,397  \n",
       "3         â¹299     â¹1,999  \n",
       "4         â¹309     â¹1,099  "
      ]
     },
     "execution_count": 33,
     "metadata": {},
     "output_type": "execute_result"
    }
   ],
   "source": [
    "df.head()"
   ]
  },
  {
   "cell_type": "code",
   "execution_count": 34,
   "metadata": {},
   "outputs": [
    {
     "data": {
      "text/plain": [
       "name                 0\n",
       "main_category        0\n",
       "sub_category         0\n",
       "image                0\n",
       "link                 0\n",
       "ratings           6147\n",
       "no_of_ratings     6147\n",
       "discount_price    1494\n",
       "actual_price       362\n",
       "dtype: int64"
      ]
     },
     "execution_count": 34,
     "metadata": {},
     "output_type": "execute_result"
    }
   ],
   "source": [
    "df.isnull().sum()"
   ]
  },
  {
   "cell_type": "code",
   "execution_count": 35,
   "metadata": {},
   "outputs": [],
   "source": [
    "df.ffill(inplace=True)"
   ]
  },
  {
   "cell_type": "code",
   "execution_count": 36,
   "metadata": {},
   "outputs": [
    {
     "data": {
      "text/plain": [
       "name              0\n",
       "main_category     0\n",
       "sub_category      0\n",
       "image             0\n",
       "link              0\n",
       "ratings           0\n",
       "no_of_ratings     0\n",
       "discount_price    0\n",
       "actual_price      0\n",
       "dtype: int64"
      ]
     },
     "execution_count": 36,
     "metadata": {},
     "output_type": "execute_result"
    }
   ],
   "source": [
    "df.isnull().sum()"
   ]
  },
  {
   "cell_type": "code",
   "execution_count": 37,
   "metadata": {},
   "outputs": [],
   "source": [
    "df = df[['name','image','actual_price']]"
   ]
  },
  {
   "cell_type": "code",
   "execution_count": 38,
   "metadata": {},
   "outputs": [],
   "source": [
    "unknown_symbol = 'â¹'\n",
    "df['actual_price'] = df['actual_price'].apply(lambda x: x.replace(unknown_symbol, ''))"
   ]
  },
  {
   "cell_type": "code",
   "execution_count": 39,
   "metadata": {},
   "outputs": [],
   "source": [
    "df['actual_price'] = df['actual_price'].replace(',', '', regex=True).astype(float)"
   ]
  },
  {
   "cell_type": "code",
   "execution_count": 40,
   "metadata": {},
   "outputs": [
    {
     "data": {
      "text/html": [
       "<div>\n",
       "<style scoped>\n",
       "    .dataframe tbody tr th:only-of-type {\n",
       "        vertical-align: middle;\n",
       "    }\n",
       "\n",
       "    .dataframe tbody tr th {\n",
       "        vertical-align: top;\n",
       "    }\n",
       "\n",
       "    .dataframe thead th {\n",
       "        text-align: right;\n",
       "    }\n",
       "</style>\n",
       "<table border=\"1\" class=\"dataframe\">\n",
       "  <thead>\n",
       "    <tr style=\"text-align: right;\">\n",
       "      <th></th>\n",
       "      <th>name</th>\n",
       "      <th>image</th>\n",
       "      <th>actual_price</th>\n",
       "    </tr>\n",
       "  </thead>\n",
       "  <tbody>\n",
       "    <tr>\n",
       "      <th>0</th>\n",
       "      <td>Allen Solly Men's Regular Fit Polo</td>\n",
       "      <td>https://m.media-amazon.com/images/I/71eUwDk8z+...</td>\n",
       "      <td>1099.0</td>\n",
       "    </tr>\n",
       "    <tr>\n",
       "      <th>1</th>\n",
       "      <td>Van Heusen Men's Regular Fit Polo Shirt</td>\n",
       "      <td>https://m.media-amazon.com/images/I/71ISzvgAl2...</td>\n",
       "      <td>1099.0</td>\n",
       "    </tr>\n",
       "    <tr>\n",
       "      <th>2</th>\n",
       "      <td>Scott International Men's Regular Fit T-Shirt ...</td>\n",
       "      <td>https://m.media-amazon.com/images/I/71HBNT3R66...</td>\n",
       "      <td>2397.0</td>\n",
       "    </tr>\n",
       "    <tr>\n",
       "      <th>3</th>\n",
       "      <td>TOPLOT T-Shirt for Men||T Shirt||White T-Shirt...</td>\n",
       "      <td>https://m.media-amazon.com/images/I/71GITfTSeR...</td>\n",
       "      <td>1999.0</td>\n",
       "    </tr>\n",
       "    <tr>\n",
       "      <th>4</th>\n",
       "      <td>Amazon Brand - Symbol Men's Regular Polo Shirt</td>\n",
       "      <td>https://m.media-amazon.com/images/I/51K0XmUVDP...</td>\n",
       "      <td>1099.0</td>\n",
       "    </tr>\n",
       "  </tbody>\n",
       "</table>\n",
       "</div>"
      ],
      "text/plain": [
       "                                                name  \\\n",
       "0                 Allen Solly Men's Regular Fit Polo   \n",
       "1            Van Heusen Men's Regular Fit Polo Shirt   \n",
       "2  Scott International Men's Regular Fit T-Shirt ...   \n",
       "3  TOPLOT T-Shirt for Men||T Shirt||White T-Shirt...   \n",
       "4     Amazon Brand - Symbol Men's Regular Polo Shirt   \n",
       "\n",
       "                                               image  actual_price  \n",
       "0  https://m.media-amazon.com/images/I/71eUwDk8z+...        1099.0  \n",
       "1  https://m.media-amazon.com/images/I/71ISzvgAl2...        1099.0  \n",
       "2  https://m.media-amazon.com/images/I/71HBNT3R66...        2397.0  \n",
       "3  https://m.media-amazon.com/images/I/71GITfTSeR...        1999.0  \n",
       "4  https://m.media-amazon.com/images/I/51K0XmUVDP...        1099.0  "
      ]
     },
     "execution_count": 40,
     "metadata": {},
     "output_type": "execute_result"
    }
   ],
   "source": [
    "df.head()"
   ]
  },
  {
   "cell_type": "code",
   "execution_count": 41,
   "metadata": {},
   "outputs": [
    {
     "data": {
      "text/html": [
       "<div>\n",
       "<style scoped>\n",
       "    .dataframe tbody tr th:only-of-type {\n",
       "        vertical-align: middle;\n",
       "    }\n",
       "\n",
       "    .dataframe tbody tr th {\n",
       "        vertical-align: top;\n",
       "    }\n",
       "\n",
       "    .dataframe thead th {\n",
       "        text-align: right;\n",
       "    }\n",
       "</style>\n",
       "<table border=\"1\" class=\"dataframe\">\n",
       "  <thead>\n",
       "    <tr style=\"text-align: right;\">\n",
       "      <th></th>\n",
       "      <th>name</th>\n",
       "      <th>image</th>\n",
       "      <th>actual_price</th>\n",
       "    </tr>\n",
       "  </thead>\n",
       "  <tbody>\n",
       "    <tr>\n",
       "      <th>0</th>\n",
       "      <td>Allen Solly Men's Regular Fit Polo</td>\n",
       "      <td>https://m.media-amazon.com/images/I/71eUwDk8z+...</td>\n",
       "      <td>1099.0</td>\n",
       "    </tr>\n",
       "    <tr>\n",
       "      <th>1</th>\n",
       "      <td>Van Heusen Men's Regular Fit Polo Shirt</td>\n",
       "      <td>https://m.media-amazon.com/images/I/71ISzvgAl2...</td>\n",
       "      <td>1099.0</td>\n",
       "    </tr>\n",
       "    <tr>\n",
       "      <th>2</th>\n",
       "      <td>Scott International Men's Regular Fit T-Shirt ...</td>\n",
       "      <td>https://m.media-amazon.com/images/I/71HBNT3R66...</td>\n",
       "      <td>2397.0</td>\n",
       "    </tr>\n",
       "    <tr>\n",
       "      <th>3</th>\n",
       "      <td>TOPLOT T-Shirt for Men||T Shirt||White T-Shirt...</td>\n",
       "      <td>https://m.media-amazon.com/images/I/71GITfTSeR...</td>\n",
       "      <td>1999.0</td>\n",
       "    </tr>\n",
       "    <tr>\n",
       "      <th>4</th>\n",
       "      <td>Amazon Brand - Symbol Men's Regular Polo Shirt</td>\n",
       "      <td>https://m.media-amazon.com/images/I/51K0XmUVDP...</td>\n",
       "      <td>1099.0</td>\n",
       "    </tr>\n",
       "  </tbody>\n",
       "</table>\n",
       "</div>"
      ],
      "text/plain": [
       "                                                name  \\\n",
       "0                 Allen Solly Men's Regular Fit Polo   \n",
       "1            Van Heusen Men's Regular Fit Polo Shirt   \n",
       "2  Scott International Men's Regular Fit T-Shirt ...   \n",
       "3  TOPLOT T-Shirt for Men||T Shirt||White T-Shirt...   \n",
       "4     Amazon Brand - Symbol Men's Regular Polo Shirt   \n",
       "\n",
       "                                               image  actual_price  \n",
       "0  https://m.media-amazon.com/images/I/71eUwDk8z+...        1099.0  \n",
       "1  https://m.media-amazon.com/images/I/71ISzvgAl2...        1099.0  \n",
       "2  https://m.media-amazon.com/images/I/71HBNT3R66...        2397.0  \n",
       "3  https://m.media-amazon.com/images/I/71GITfTSeR...        1999.0  \n",
       "4  https://m.media-amazon.com/images/I/51K0XmUVDP...        1099.0  "
      ]
     },
     "execution_count": 41,
     "metadata": {},
     "output_type": "execute_result"
    }
   ],
   "source": [
    "df.head()"
   ]
  },
  {
   "cell_type": "code",
   "execution_count": 45,
   "metadata": {},
   "outputs": [],
   "source": [
    "from sklearn.neighbors import NearestNeighbors\n",
    "from sklearn.feature_extraction.text import TfidfVectorizer\n",
    "import pandas as pd\n",
    "\n",
    "# Assuming 'df' is your DataFrame containing product information\n",
    "\n",
    "# Text Preprocessing - Convert 'name' to numerical representation\n",
    "tfidf = TfidfVectorizer(stop_words='english')\n",
    "tfidf_matrix = tfidf.fit_transform(df['name'])\n",
    "\n",
    "k = 11  # Number of neighbors, including the item itself\n",
    "knn_model = NearestNeighbors(n_neighbors=k, metric='cosine')\n",
    "knn_model.fit(tfidf_matrix)\n",
    "\n",
    "# User input\n",
    "user_name = 'red'\n",
    "\n",
    "# Filter products containing the user input in their name\n",
    "filtered_products = df[df['name'].str.contains(user_name, case=False)]\n",
    "\n",
    "if filtered_products.empty:\n",
    "    print(\"No products with the specified keyword found.\")\n",
    "else:\n",
    "    # Text Preprocessing for user input\n",
    "    user_tfidf = tfidf.transform([user_name])\n",
    "\n",
    "    # Calculate cosine similarity between user input and all products\n",
    "    similarities, indices = knn_model.kneighbors(user_tfidf)\n",
    "\n",
    "    # Get top similar products to the user input\n",
    "    similar_products_indices = indices.flatten()\n",
    "    similar_products = df.iloc[similar_products_indices]\n",
    "\n",
    "    # Sort the filtered products by cost and get the top 15\n",
    "    top_15_products = similar_products.sort_values(by='actual_price').head(15)\n",
    "\n",
    "    # Get recommended product names, costs, and images from the top 15 products\n",
    "    recommended_product_names = top_15_products['name'].tolist()\n",
    "    recommended_product_costs = top_15_products['actual_price'].tolist()\n",
    "    recommended_product_images = top_15_products['image'].tolist()\n",
    "\n",
    "    # You can then use these recommended lists as needed\n"
   ]
  },
  {
   "cell_type": "code",
   "execution_count": 46,
   "metadata": {},
   "outputs": [
    {
     "data": {
      "text/plain": [
       "['Red Tape Men T-Shirt',\n",
       " 'Red Tape Men T-Shirt',\n",
       " 'Red Tape Men T-Shirt',\n",
       " 'Red Tape Men T-Shirt',\n",
       " 'Red Tape Men T-Shirt',\n",
       " 'Red Tape Men T-Shirt',\n",
       " 'Red Tape Men Red Collared T-Shirt',\n",
       " 'Red Tape Men T-Shirt',\n",
       " 'Red Tape Men T-Shirt',\n",
       " 'Red Tape Men T-Shirt',\n",
       " 'Red Tape Men T-Shirt']"
      ]
     },
     "execution_count": 46,
     "metadata": {},
     "output_type": "execute_result"
    }
   ],
   "source": [
    "recommended_product_names"
   ]
  },
  {
   "cell_type": "code",
   "execution_count": 47,
   "metadata": {},
   "outputs": [
    {
     "data": {
      "text/plain": [
       "['https://m.media-amazon.com/images/W/IMAGERENDERING_521856-T1/images/I/715mXcnJi5L._AC_UL320_.jpg',\n",
       " 'https://m.media-amazon.com/images/I/71WbO6pQGqL._AC_UL320_.jpg',\n",
       " 'https://m.media-amazon.com/images/I/61CipIzY4mL._AC_UL320_.jpg',\n",
       " 'https://m.media-amazon.com/images/W/IMAGERENDERING_521856-T2/images/I/61sxbvWxA2L._AC_UL320_.jpg',\n",
       " 'https://m.media-amazon.com/images/I/61Sg0mOEJ1L._AC_UL320_.jpg',\n",
       " 'https://m.media-amazon.com/images/W/IMAGERENDERING_521856-T2/images/I/61MMWwBIu5L._AC_UL320_.jpg',\n",
       " 'https://m.media-amazon.com/images/I/71fWIJQXcNL._AC_UL320_.jpg',\n",
       " 'https://m.media-amazon.com/images/I/71hPZASt-DL._AC_UL320_.jpg',\n",
       " 'https://m.media-amazon.com/images/W/IMAGERENDERING_521856-T2/images/I/71XueW-sMVL._AC_UL320_.jpg',\n",
       " 'https://m.media-amazon.com/images/W/IMAGERENDERING_521856-T1/images/I/61NiztVBB-L._AC_UL320_.jpg',\n",
       " 'https://m.media-amazon.com/images/I/71XueW-sMVL._AC_UL320_.jpg']"
      ]
     },
     "execution_count": 47,
     "metadata": {},
     "output_type": "execute_result"
    }
   ],
   "source": [
    "recommended_product_images"
   ]
  },
  {
   "cell_type": "code",
   "execution_count": 48,
   "metadata": {},
   "outputs": [
    {
     "data": {
      "text/plain": [
       "[1299.0,\n",
       " 1399.0,\n",
       " 1799.0,\n",
       " 1799.0,\n",
       " 1999.0,\n",
       " 2099.0,\n",
       " 2399.0,\n",
       " 2599.0,\n",
       " 2599.0,\n",
       " 2599.0,\n",
       " 2599.0]"
      ]
     },
     "execution_count": 48,
     "metadata": {},
     "output_type": "execute_result"
    }
   ],
   "source": [
    "recommended_product_costs"
   ]
  },
  {
   "cell_type": "code",
   "execution_count": null,
   "metadata": {},
   "outputs": [],
   "source": []
  }
 ],
 "metadata": {
  "kernelspec": {
   "display_name": "Python 3",
   "language": "python",
   "name": "python3"
  },
  "language_info": {
   "codemirror_mode": {
    "name": "ipython",
    "version": 3
   },
   "file_extension": ".py",
   "mimetype": "text/x-python",
   "name": "python",
   "nbconvert_exporter": "python",
   "pygments_lexer": "ipython3",
   "version": "3.10.9"
  }
 },
 "nbformat": 4,
 "nbformat_minor": 2
}
